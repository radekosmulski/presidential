{
 "cells": [
  {
   "cell_type": "markdown",
   "metadata": {},
   "source": [
    "# Talk like the President"
   ]
  },
  {
   "cell_type": "markdown",
   "metadata": {},
   "source": [
    "In this notebook I build up towards a simple char RNN architecture using the [fastai library](https://github.com/fastai/).\n",
    "\n",
    "The code is taken nearly line for line from [Lesson 6](https://github.com/fastai/fastai/blob/master/courses/dl1/lesson6-rnn.ipynb) of the FastAI Part 1 v2 course. The diagrams come from the course videos.\n",
    "\n",
    "Jeremy provides a great overview of each of the architectures in the [lecture 6 video](https://youtu.be/sHcLkfRrgoQ?t=1h12m40s). "
   ]
  },
  {
   "cell_type": "code",
   "execution_count": 1,
   "metadata": {},
   "outputs": [],
   "source": [
    "import glob\n",
    "from utils import *"
   ]
  },
  {
   "cell_type": "code",
   "execution_count": 2,
   "metadata": {},
   "outputs": [],
   "source": [
    "from fastai.io import *\n",
    "from fastai.conv_learner import *\n",
    "\n",
    "from fastai.column_data import *"
   ]
  },
  {
   "cell_type": "code",
   "execution_count": 3,
   "metadata": {},
   "outputs": [
    {
     "name": "stdout",
     "output_type": "stream",
     "text": [
      "--2018-01-26 15:22:26--  http://www.thegrammarlab.com/?wpdmpro=corpus-of-presidential-speeches&wpdmdl=595\n",
      "Resolving www.thegrammarlab.com (www.thegrammarlab.com)... 192.124.249.2\n",
      "Connecting to www.thegrammarlab.com (www.thegrammarlab.com)|192.124.249.2|:80... connected.\n",
      "HTTP request sent, awaiting response... 200 OK\n",
      "Length: 8402362 (8.0M) [application/zip]\n",
      "Saving to: ‘data/corpus.zip’\n",
      "\n",
      "data/corpus.zip     100%[===================>]   8.01M   800KB/s    in 10s     \n",
      "\n",
      "2018-01-26 15:22:41 (785 KB/s) - ‘data/corpus.zip’ saved [8402362/8402362]\n",
      "\n",
      "Archive:  data/corpus.zip\n",
      "   creating: data/Corpus of Presential Speeches/adams/\n",
      "  inflating: data/Corpus of Presential Speeches/adams/adams_speeches_000.txt  \n",
      "  inflating: data/Corpus of Presential Speeches/adams/adams_speeches_001.txt  \n",
      "  inflating: data/Corpus of Presential Speeches/adams/adams_speeches_002.txt  \n",
      "  inflating: data/Corpus of Presential Speeches/adams/adams_speeches_003.txt  \n",
      "  inflating: data/Corpus of Presential Speeches/adams/adams_speeches_004.txt  \n",
      "  inflating: data/Corpus of Presential Speeches/adams/adams_speeches_005.txt  \n",
      "  inflating: data/Corpus of Presential Speeches/adams/adams_speeches_006.txt  \n",
      "  inflating: data/Corpus of Presential Speeches/adams/adams_speeches_007.txt  \n",
      "  inflating: data/Corpus of Presential Speeches/adams/adams_speeches_008.txt  \n",
      "   creating: data/Corpus of Presential Speeches/arthur/\n",
      "  inflating: data/Corpus of Presential Speeches/arthur/arthur_speeches_000.txt  \n",
      "  inflating: data/Corpus of Presential Speeches/arthur/arthur_speeches_001.txt  \n",
      "  inflating: data/Corpus of Presential Speeches/arthur/arthur_speeches_002.txt  \n",
      "  inflating: data/Corpus of Presential Speeches/arthur/arthur_speeches_003.txt  \n",
      "  inflating: data/Corpus of Presential Speeches/arthur/arthur_speeches_004.txt  \n",
      "  inflating: data/Corpus of Presential Speeches/arthur/arthur_speeches_005.txt  \n",
      "  inflating: data/Corpus of Presential Speeches/arthur/arthur_speeches_006.txt  \n",
      "  inflating: data/Corpus of Presential Speeches/arthur/arthur_speeches_007.txt  \n",
      "  inflating: data/Corpus of Presential Speeches/arthur/arthur_speeches_008.txt  \n",
      "  inflating: data/Corpus of Presential Speeches/arthur/arthur_speeches_009.txt  \n",
      "  inflating: data/Corpus of Presential Speeches/arthur/arthur_speeches_010.txt  \n",
      "   creating: data/Corpus of Presential Speeches/bharrison/\n",
      "  inflating: data/Corpus of Presential Speeches/bharrison/bharrison_speeches_000.txt  \n",
      "  inflating: data/Corpus of Presential Speeches/bharrison/bharrison_speeches_001.txt  \n",
      "  inflating: data/Corpus of Presential Speeches/bharrison/bharrison_speeches_002.txt  \n",
      "  inflating: data/Corpus of Presential Speeches/bharrison/bharrison_speeches_003.txt  \n",
      "  inflating: data/Corpus of Presential Speeches/bharrison/bharrison_speeches_004.txt  \n",
      "  inflating: data/Corpus of Presential Speeches/bharrison/bharrison_speeches_005.txt  \n",
      "  inflating: data/Corpus of Presential Speeches/bharrison/bharrison_speeches_006.txt  \n",
      "  inflating: data/Corpus of Presential Speeches/bharrison/bharrison_speeches_007.txt  \n",
      "  inflating: data/Corpus of Presential Speeches/bharrison/bharrison_speeches_008.txt  \n",
      "  inflating: data/Corpus of Presential Speeches/bharrison/bharrison_speeches_009.txt  \n",
      "  inflating: data/Corpus of Presential Speeches/bharrison/bharrison_speeches_010.txt  \n",
      "  inflating: data/Corpus of Presential Speeches/bharrison/bharrison_speeches_011.txt  \n",
      "  inflating: data/Corpus of Presential Speeches/bharrison/bharrison_speeches_012.txt  \n",
      "  inflating: data/Corpus of Presential Speeches/bharrison/bharrison_speeches_013.txt  \n",
      "  inflating: data/Corpus of Presential Speeches/bharrison/bharrison_speeches_014.txt  \n",
      "  inflating: data/Corpus of Presential Speeches/bharrison/bharrison_speeches_015.txt  \n",
      "   creating: data/Corpus of Presential Speeches/buchanan/\n",
      "  inflating: data/Corpus of Presential Speeches/buchanan/buchanan_speeches_000.txt  \n",
      "  inflating: data/Corpus of Presential Speeches/buchanan/buchanan_speeches_001.txt  \n",
      "  inflating: data/Corpus of Presential Speeches/buchanan/buchanan_speeches_002.txt  \n",
      "  inflating: data/Corpus of Presential Speeches/buchanan/buchanan_speeches_003.txt  \n",
      "  inflating: data/Corpus of Presential Speeches/buchanan/buchanan_speeches_004.txt  \n",
      "  inflating: data/Corpus of Presential Speeches/buchanan/buchanan_speeches_005.txt  \n",
      "  inflating: data/Corpus of Presential Speeches/buchanan/buchanan_speeches_006.txt  \n",
      "  inflating: data/Corpus of Presential Speeches/buchanan/buchanan_speeches_007.txt  \n",
      "  inflating: data/Corpus of Presential Speeches/buchanan/buchanan_speeches_008.txt  \n",
      "  inflating: data/Corpus of Presential Speeches/buchanan/buchanan_speeches_009.txt  \n",
      "  inflating: data/Corpus of Presential Speeches/buchanan/buchanan_speeches_010.txt  \n",
      "  inflating: data/Corpus of Presential Speeches/buchanan/buchanan_speeches_011.txt  \n",
      "  inflating: data/Corpus of Presential Speeches/buchanan/buchanan_speeches_012.txt  \n",
      "  inflating: data/Corpus of Presential Speeches/buchanan/buchanan_speeches_013.txt  \n",
      "   creating: data/Corpus of Presential Speeches/bush/\n",
      "  inflating: data/Corpus of Presential Speeches/bush/bush_speeches_000.txt  \n",
      "  inflating: data/Corpus of Presential Speeches/bush/bush_speeches_001.txt  \n",
      "  inflating: data/Corpus of Presential Speeches/bush/bush_speeches_002.txt  \n",
      "  inflating: data/Corpus of Presential Speeches/bush/bush_speeches_003.txt  \n",
      "  inflating: data/Corpus of Presential Speeches/bush/bush_speeches_004.txt  \n",
      "  inflating: data/Corpus of Presential Speeches/bush/bush_speeches_005.txt  \n",
      "  inflating: data/Corpus of Presential Speeches/bush/bush_speeches_006.txt  \n",
      "  inflating: data/Corpus of Presential Speeches/bush/bush_speeches_007.txt  \n",
      "  inflating: data/Corpus of Presential Speeches/bush/bush_speeches_008.txt  \n",
      "  inflating: data/Corpus of Presential Speeches/bush/bush_speeches_009.txt  \n",
      "  inflating: data/Corpus of Presential Speeches/bush/bush_speeches_010.txt  \n",
      "  inflating: data/Corpus of Presential Speeches/bush/bush_speeches_011.txt  \n",
      "  inflating: data/Corpus of Presential Speeches/bush/bush_speeches_012.txt  \n",
      "  inflating: data/Corpus of Presential Speeches/bush/bush_speeches_013.txt  \n",
      "  inflating: data/Corpus of Presential Speeches/bush/bush_speeches_014.txt  \n",
      "  inflating: data/Corpus of Presential Speeches/bush/bush_speeches_015.txt  \n",
      "  inflating: data/Corpus of Presential Speeches/bush/bush_speeches_016.txt  \n",
      "  inflating: data/Corpus of Presential Speeches/bush/bush_speeches_017.txt  \n",
      "  inflating: data/Corpus of Presential Speeches/bush/bush_speeches_018.txt  \n",
      "  inflating: data/Corpus of Presential Speeches/bush/bush_speeches_019.txt  \n",
      "  inflating: data/Corpus of Presential Speeches/bush/bush_speeches_020.txt  \n",
      "  inflating: data/Corpus of Presential Speeches/bush/bush_speeches_021.txt  \n",
      "  inflating: data/Corpus of Presential Speeches/bush/bush_speeches_022.txt  \n",
      "   creating: data/Corpus of Presential Speeches/carter/\n",
      "  inflating: data/Corpus of Presential Speeches/carter/carter_speeches_000.txt  \n",
      "  inflating: data/Corpus of Presential Speeches/carter/carter_speeches_001.txt  \n",
      "  inflating: data/Corpus of Presential Speeches/carter/carter_speeches_002.txt  \n",
      "  inflating: data/Corpus of Presential Speeches/carter/carter_speeches_003.txt  \n",
      "  inflating: data/Corpus of Presential Speeches/carter/carter_speeches_004.txt  \n",
      "  inflating: data/Corpus of Presential Speeches/carter/carter_speeches_005.txt  \n",
      "  inflating: data/Corpus of Presential Speeches/carter/carter_speeches_006.txt  \n",
      "  inflating: data/Corpus of Presential Speeches/carter/carter_speeches_007.txt  \n",
      "  inflating: data/Corpus of Presential Speeches/carter/carter_speeches_008.txt  \n",
      "  inflating: data/Corpus of Presential Speeches/carter/carter_speeches_009.txt  \n",
      "  inflating: data/Corpus of Presential Speeches/carter/carter_speeches_010.txt  \n",
      "  inflating: data/Corpus of Presential Speeches/carter/carter_speeches_011.txt  \n",
      "  inflating: data/Corpus of Presential Speeches/carter/carter_speeches_012.txt  \n",
      "  inflating: data/Corpus of Presential Speeches/carter/carter_speeches_013.txt  \n",
      "  inflating: data/Corpus of Presential Speeches/carter/carter_speeches_014.txt  \n",
      "  inflating: data/Corpus of Presential Speeches/carter/carter_speeches_015.txt  \n",
      "  inflating: data/Corpus of Presential Speeches/carter/carter_speeches_016.txt  \n",
      "  inflating: data/Corpus of Presential Speeches/carter/carter_speeches_017.txt  \n",
      "  inflating: data/Corpus of Presential Speeches/carter/carter_speeches_018.txt  \n",
      "  inflating: data/Corpus of Presential Speeches/carter/carter_speeches_019.txt  \n",
      "  inflating: data/Corpus of Presential Speeches/carter/carter_speeches_020.txt  \n",
      "  inflating: data/Corpus of Presential Speeches/carter/carter_speeches_021.txt  \n",
      "   creating: data/Corpus of Presential Speeches/cleveland/\n",
      "  inflating: data/Corpus of Presential Speeches/cleveland/cleveland_speeches_000.txt  \n",
      "  inflating: data/Corpus of Presential Speeches/cleveland/cleveland_speeches_001.txt  \n",
      "  inflating: data/Corpus of Presential Speeches/cleveland/cleveland_speeches_002.txt  \n",
      "  inflating: data/Corpus of Presential Speeches/cleveland/cleveland_speeches_003.txt  \n",
      "  inflating: data/Corpus of Presential Speeches/cleveland/cleveland_speeches_004.txt  \n",
      "  inflating: data/Corpus of Presential Speeches/cleveland/cleveland_speeches_005.txt  \n",
      "  inflating: data/Corpus of Presential Speeches/cleveland/cleveland_speeches_006.txt  \n",
      "  inflating: data/Corpus of Presential Speeches/cleveland/cleveland_speeches_007.txt  \n",
      "  inflating: data/Corpus of Presential Speeches/cleveland/cleveland_speeches_008.txt  \n",
      "  inflating: data/Corpus of Presential Speeches/cleveland/cleveland_speeches_009.txt  \n",
      "  inflating: data/Corpus of Presential Speeches/cleveland/cleveland_speeches_010.txt  \n",
      "  inflating: data/Corpus of Presential Speeches/cleveland/cleveland_speeches_011.txt  \n",
      "  inflating: data/Corpus of Presential Speeches/cleveland/cleveland_speeches_012.txt  \n",
      "  inflating: data/Corpus of Presential Speeches/cleveland/cleveland_speeches_013.txt  \n",
      "  inflating: data/Corpus of Presential Speeches/cleveland/cleveland_speeches_014.txt  \n",
      "  inflating: data/Corpus of Presential Speeches/cleveland/cleveland_speeches_015.txt  \n",
      "  inflating: data/Corpus of Presential Speeches/cleveland/cleveland_speeches_016.txt  \n",
      "  inflating: data/Corpus of Presential Speeches/cleveland/cleveland_speeches_017.txt  \n",
      "  inflating: data/Corpus of Presential Speeches/cleveland/cleveland_speeches_018.txt  \n",
      "  inflating: data/Corpus of Presential Speeches/cleveland/cleveland_speeches_019.txt  \n",
      "  inflating: data/Corpus of Presential Speeches/cleveland/cleveland_speeches_020.txt  \n",
      "  inflating: data/Corpus of Presential Speeches/cleveland/cleveland_speeches_021.txt  \n",
      "  inflating: data/Corpus of Presential Speeches/cleveland/cleveland_speeches_022.txt  \n",
      "  inflating: data/Corpus of Presential Speeches/cleveland/cleveland_speeches_023.txt  \n",
      "  inflating: data/Corpus of Presential Speeches/cleveland/cleveland_speeches_024.txt  \n",
      "  inflating: data/Corpus of Presential Speeches/cleveland/cleveland_speeches_025.txt  \n",
      "  inflating: data/Corpus of Presential Speeches/cleveland/cleveland_speeches_026.txt  \n",
      "  inflating: data/Corpus of Presential Speeches/cleveland/cleveland_speeches_027.txt  \n",
      "  inflating: data/Corpus of Presential Speeches/cleveland/cleveland_speeches_028.txt  \n",
      "  inflating: data/Corpus of Presential Speeches/cleveland/cleveland_speeches_029.txt  \n",
      "  inflating: data/Corpus of Presential Speeches/cleveland/cleveland_speeches_030.txt  \n",
      "   creating: data/Corpus of Presential Speeches/clinton/\n",
      "  inflating: data/Corpus of Presential Speeches/clinton/clinton_speeches_000.txt  \n",
      "  inflating: data/Corpus of Presential Speeches/clinton/clinton_speeches_001.txt  \n",
      "  inflating: data/Corpus of Presential Speeches/clinton/clinton_speeches_002.txt  \n",
      "  inflating: data/Corpus of Presential Speeches/clinton/clinton_speeches_003.txt  \n",
      "  inflating: data/Corpus of Presential Speeches/clinton/clinton_speeches_004.txt  \n",
      "  inflating: data/Corpus of Presential Speeches/clinton/clinton_speeches_005.txt  \n",
      "  inflating: data/Corpus of Presential Speeches/clinton/clinton_speeches_006.txt  \n",
      "  inflating: data/Corpus of Presential Speeches/clinton/clinton_speeches_007.txt  \n",
      "  inflating: data/Corpus of Presential Speeches/clinton/clinton_speeches_008.txt  \n",
      "  inflating: data/Corpus of Presential Speeches/clinton/clinton_speeches_009.txt  \n",
      "  inflating: data/Corpus of Presential Speeches/clinton/clinton_speeches_010.txt  \n",
      "  inflating: data/Corpus of Presential Speeches/clinton/clinton_speeches_011.txt  \n",
      "  inflating: data/Corpus of Presential Speeches/clinton/clinton_speeches_012.txt  \n",
      "  inflating: data/Corpus of Presential Speeches/clinton/clinton_speeches_013.txt  \n",
      "  inflating: data/Corpus of Presential Speeches/clinton/clinton_speeches_014.txt  \n",
      "  inflating: data/Corpus of Presential Speeches/clinton/clinton_speeches_015.txt  \n",
      "  inflating: data/Corpus of Presential Speeches/clinton/clinton_speeches_016.txt  \n",
      "  inflating: data/Corpus of Presential Speeches/clinton/clinton_speeches_017.txt  \n",
      "  inflating: data/Corpus of Presential Speeches/clinton/clinton_speeches_018.txt  \n",
      "  inflating: data/Corpus of Presential Speeches/clinton/clinton_speeches_019.txt  \n",
      "  inflating: data/Corpus of Presential Speeches/clinton/clinton_speeches_020.txt  \n",
      "  inflating: data/Corpus of Presential Speeches/clinton/clinton_speeches_021.txt  \n",
      "  inflating: data/Corpus of Presential Speeches/clinton/clinton_speeches_022.txt  \n",
      "  inflating: data/Corpus of Presential Speeches/clinton/clinton_speeches_023.txt  \n",
      "  inflating: data/Corpus of Presential Speeches/clinton/clinton_speeches_024.txt  \n",
      "  inflating: data/Corpus of Presential Speeches/clinton/clinton_speeches_025.txt  \n",
      "  inflating: data/Corpus of Presential Speeches/clinton/clinton_speeches_026.txt  \n",
      "  inflating: data/Corpus of Presential Speeches/clinton/clinton_speeches_027.txt  \n",
      "  inflating: data/Corpus of Presential Speeches/clinton/clinton_speeches_028.txt  \n",
      "  inflating: data/Corpus of Presential Speeches/clinton/clinton_speeches_029.txt  \n",
      "  inflating: data/Corpus of Presential Speeches/clinton/clinton_speeches_030.txt  \n",
      "  inflating: data/Corpus of Presential Speeches/clinton/clinton_speeches_031.txt  \n",
      "  inflating: data/Corpus of Presential Speeches/clinton/clinton_speeches_032.txt  \n",
      "  inflating: data/Corpus of Presential Speeches/clinton/clinton_speeches_033.txt  \n",
      "  inflating: data/Corpus of Presential Speeches/clinton/clinton_speeches_034.txt  \n",
      "  inflating: data/Corpus of Presential Speeches/clinton/clinton_speeches_035.txt  \n",
      "  inflating: data/Corpus of Presential Speeches/clinton/clinton_speeches_036.txt  \n",
      "  inflating: data/Corpus of Presential Speeches/clinton/clinton_speeches_037.txt  \n",
      "  inflating: data/Corpus of Presential Speeches/clinton/clinton_speeches_038.txt  \n",
      "   creating: data/Corpus of Presential Speeches/coolidge/\n",
      "  inflating: data/Corpus of Presential Speeches/coolidge/coolidge_speeches_000.txt  \n"
     ]
    },
    {
     "name": "stdout",
     "output_type": "stream",
     "text": [
      "  inflating: data/Corpus of Presential Speeches/coolidge/coolidge_speeches_001.txt  \r\n",
      "  inflating: data/Corpus of Presential Speeches/coolidge/coolidge_speeches_002.txt  \r\n",
      "  inflating: data/Corpus of Presential Speeches/coolidge/coolidge_speeches_003.txt  \r\n",
      "  inflating: data/Corpus of Presential Speeches/coolidge/coolidge_speeches_004.txt  \r\n",
      "  inflating: data/Corpus of Presential Speeches/coolidge/coolidge_speeches_005.txt  \r\n",
      "  inflating: data/Corpus of Presential Speeches/coolidge/coolidge_speeches_006.txt  \r\n",
      "  inflating: data/Corpus of Presential Speeches/coolidge/coolidge_speeches_007.txt  \r\n",
      "  inflating: data/Corpus of Presential Speeches/coolidge/coolidge_speeches_008.txt  \r\n",
      "  inflating: data/Corpus of Presential Speeches/coolidge/coolidge_speeches_009.txt  \r\n",
      "  inflating: data/Corpus of Presential Speeches/coolidge/coolidge_speeches_010.txt  \r\n",
      "  inflating: data/Corpus of Presential Speeches/coolidge/coolidge_speeches_011.txt  \r\n",
      "   creating: data/Corpus of Presential Speeches/eisenhower/\r\n",
      "  inflating: data/Corpus of Presential Speeches/eisenhower/eisenhower_speeches_000.txt  \r\n",
      "  inflating: data/Corpus of Presential Speeches/eisenhower/eisenhower_speeches_001.txt  \r\n",
      "  inflating: data/Corpus of Presential Speeches/eisenhower/eisenhower_speeches_002.txt  \r\n",
      "  inflating: data/Corpus of Presential Speeches/eisenhower/eisenhower_speeches_003.txt  \r\n",
      "  inflating: data/Corpus of Presential Speeches/eisenhower/eisenhower_speeches_004.txt  \r\n",
      "  inflating: data/Corpus of Presential Speeches/eisenhower/eisenhower_speeches_005.txt  \r\n",
      "   creating: data/Corpus of Presential Speeches/fdroosevelt/\r\n",
      "  inflating: data/Corpus of Presential Speeches/fdroosevelt/fdroosevelt_speeches_000.txt  \r\n",
      "  inflating: data/Corpus of Presential Speeches/fdroosevelt/fdroosevelt_speeches_001.txt  \r\n",
      "  inflating: data/Corpus of Presential Speeches/fdroosevelt/fdroosevelt_speeches_002.txt  \r\n",
      "  inflating: data/Corpus of Presential Speeches/fdroosevelt/fdroosevelt_speeches_003.txt  \r\n",
      "  inflating: data/Corpus of Presential Speeches/fdroosevelt/fdroosevelt_speeches_004.txt  \r\n",
      "  inflating: data/Corpus of Presential Speeches/fdroosevelt/fdroosevelt_speeches_005.txt  \r\n",
      "  inflating: data/Corpus of Presential Speeches/fdroosevelt/fdroosevelt_speeches_006.txt  \r\n",
      "  inflating: data/Corpus of Presential Speeches/fdroosevelt/fdroosevelt_speeches_007.txt  \r\n",
      "  inflating: data/Corpus of Presential Speeches/fdroosevelt/fdroosevelt_speeches_008.txt  \r\n",
      "  inflating: data/Corpus of Presential Speeches/fdroosevelt/fdroosevelt_speeches_009.txt  \r\n",
      "  inflating: data/Corpus of Presential Speeches/fdroosevelt/fdroosevelt_speeches_010.txt  \r\n",
      "  inflating: data/Corpus of Presential Speeches/fdroosevelt/fdroosevelt_speeches_011.txt  \r\n",
      "  inflating: data/Corpus of Presential Speeches/fdroosevelt/fdroosevelt_speeches_012.txt  \r\n",
      "  inflating: data/Corpus of Presential Speeches/fdroosevelt/fdroosevelt_speeches_013.txt  \r\n",
      "  inflating: data/Corpus of Presential Speeches/fdroosevelt/fdroosevelt_speeches_014.txt  \r\n",
      "  inflating: data/Corpus of Presential Speeches/fdroosevelt/fdroosevelt_speeches_015.txt  \r\n",
      "  inflating: data/Corpus of Presential Speeches/fdroosevelt/fdroosevelt_speeches_016.txt  \r\n",
      "  inflating: data/Corpus of Presential Speeches/fdroosevelt/fdroosevelt_speeches_017.txt  \r\n",
      "  inflating: data/Corpus of Presential Speeches/fdroosevelt/fdroosevelt_speeches_018.txt  \r\n",
      "  inflating: data/Corpus of Presential Speeches/fdroosevelt/fdroosevelt_speeches_019.txt  \r\n",
      "  inflating: data/Corpus of Presential Speeches/fdroosevelt/fdroosevelt_speeches_020.txt  \r\n",
      "  inflating: data/Corpus of Presential Speeches/fdroosevelt/fdroosevelt_speeches_021.txt  \r\n",
      "  inflating: data/Corpus of Presential Speeches/fdroosevelt/fdroosevelt_speeches_022.txt  \r\n",
      "  inflating: data/Corpus of Presential Speeches/fdroosevelt/fdroosevelt_speeches_023.txt  \r\n",
      "  inflating: data/Corpus of Presential Speeches/fdroosevelt/fdroosevelt_speeches_024.txt  \r\n",
      "  inflating: data/Corpus of Presential Speeches/fdroosevelt/fdroosevelt_speeches_025.txt  \r\n",
      "  inflating: data/Corpus of Presential Speeches/fdroosevelt/fdroosevelt_speeches_026.txt  \r\n",
      "  inflating: data/Corpus of Presential Speeches/fdroosevelt/fdroosevelt_speeches_027.txt  \r\n",
      "  inflating: data/Corpus of Presential Speeches/fdroosevelt/fdroosevelt_speeches_028.txt  \r\n",
      "  inflating: data/Corpus of Presential Speeches/fdroosevelt/fdroosevelt_speeches_029.txt  \r\n",
      "  inflating: data/Corpus of Presential Speeches/fdroosevelt/fdroosevelt_speeches_030.txt  \r\n",
      "  inflating: data/Corpus of Presential Speeches/fdroosevelt/fdroosevelt_speeches_031.txt  \r\n",
      "  inflating: data/Corpus of Presential Speeches/fdroosevelt/fdroosevelt_speeches_032.txt  \r\n",
      "  inflating: data/Corpus of Presential Speeches/fdroosevelt/fdroosevelt_speeches_033.txt  \r\n",
      "  inflating: data/Corpus of Presential Speeches/fdroosevelt/fdroosevelt_speeches_034.txt  \r\n",
      "  inflating: data/Corpus of Presential Speeches/fdroosevelt/fdroosevelt_speeches_035.txt  \r\n",
      "  inflating: data/Corpus of Presential Speeches/fdroosevelt/fdroosevelt_speeches_036.txt  \r\n",
      "  inflating: data/Corpus of Presential Speeches/fdroosevelt/fdroosevelt_speeches_037.txt  \r\n",
      "  inflating: data/Corpus of Presential Speeches/fdroosevelt/fdroosevelt_speeches_038.txt  \r\n",
      "  inflating: data/Corpus of Presential Speeches/fdroosevelt/fdroosevelt_speeches_039.txt  \r\n",
      "  inflating: data/Corpus of Presential Speeches/fdroosevelt/fdroosevelt_speeches_040.txt  \r\n",
      "  inflating: data/Corpus of Presential Speeches/fdroosevelt/fdroosevelt_speeches_041.txt  \r\n",
      "  inflating: data/Corpus of Presential Speeches/fdroosevelt/fdroosevelt_speeches_042.txt  \r\n",
      "  inflating: data/Corpus of Presential Speeches/fdroosevelt/fdroosevelt_speeches_043.txt  \r\n",
      "  inflating: data/Corpus of Presential Speeches/fdroosevelt/fdroosevelt_speeches_044.txt  \r\n",
      "  inflating: data/Corpus of Presential Speeches/fdroosevelt/fdroosevelt_speeches_045.txt  \r\n",
      "  inflating: data/Corpus of Presential Speeches/fdroosevelt/fdroosevelt_speeches_046.txt  \r\n",
      "  inflating: data/Corpus of Presential Speeches/fdroosevelt/fdroosevelt_speeches_047.txt  \r\n",
      "  inflating: data/Corpus of Presential Speeches/fdroosevelt/fdroosevelt_speeches_048.txt  \r\n",
      "   creating: data/Corpus of Presential Speeches/fillmore/\r\n",
      "  inflating: data/Corpus of Presential Speeches/fillmore/fillmore_speeches_000.txt  \r\n",
      "  inflating: data/Corpus of Presential Speeches/fillmore/fillmore_speeches_001.txt  \r\n",
      "  inflating: data/Corpus of Presential Speeches/fillmore/fillmore_speeches_002.txt  \r\n",
      "  inflating: data/Corpus of Presential Speeches/fillmore/fillmore_speeches_003.txt  \r\n",
      "  inflating: data/Corpus of Presential Speeches/fillmore/fillmore_speeches_004.txt  \r\n",
      "  inflating: data/Corpus of Presential Speeches/fillmore/fillmore_speeches_005.txt  \r\n",
      "  inflating: data/Corpus of Presential Speeches/fillmore/fillmore_speeches_006.txt  \r\n",
      "   creating: data/Corpus of Presential Speeches/ford/\r\n",
      "  inflating: data/Corpus of Presential Speeches/ford/ford_speeches_000.txt  \r\n",
      "  inflating: data/Corpus of Presential Speeches/ford/ford_speeches_001.txt  \r\n",
      "  inflating: data/Corpus of Presential Speeches/ford/ford_speeches_002.txt  \r\n",
      "  inflating: data/Corpus of Presential Speeches/ford/ford_speeches_003.txt  \r\n",
      "  inflating: data/Corpus of Presential Speeches/ford/ford_speeches_004.txt  \r\n",
      "  inflating: data/Corpus of Presential Speeches/ford/ford_speeches_005.txt  \r\n",
      "  inflating: data/Corpus of Presential Speeches/ford/ford_speeches_006.txt  \r\n",
      "  inflating: data/Corpus of Presential Speeches/ford/ford_speeches_007.txt  \r\n",
      "  inflating: data/Corpus of Presential Speeches/ford/ford_speeches_008.txt  \r\n",
      "  inflating: data/Corpus of Presential Speeches/ford/ford_speeches_009.txt  \r\n",
      "  inflating: data/Corpus of Presential Speeches/ford/ford_speeches_010.txt  \r\n",
      "  inflating: data/Corpus of Presential Speeches/ford/ford_speeches_011.txt  \r\n",
      "  inflating: data/Corpus of Presential Speeches/ford/ford_speeches_012.txt  \r\n",
      "  inflating: data/Corpus of Presential Speeches/ford/ford_speeches_013.txt  \r\n",
      "   creating: data/Corpus of Presential Speeches/garfield/\r\n",
      "  inflating: data/Corpus of Presential Speeches/garfield/garfield_speeches_000.txt  \r\n",
      "   creating: data/Corpus of Presential Speeches/grant/\r\n",
      "  inflating: data/Corpus of Presential Speeches/grant/grant_speeches_000.txt  \r\n",
      "  inflating: data/Corpus of Presential Speeches/grant/grant_speeches_001.txt  \r\n",
      "  inflating: data/Corpus of Presential Speeches/grant/grant_speeches_002.txt  \r\n",
      "  inflating: data/Corpus of Presential Speeches/grant/grant_speeches_003.txt  \r\n",
      "  inflating: data/Corpus of Presential Speeches/grant/grant_speeches_004.txt  \r\n",
      "  inflating: data/Corpus of Presential Speeches/grant/grant_speeches_005.txt  \r\n",
      "  inflating: data/Corpus of Presential Speeches/grant/grant_speeches_006.txt  \r\n",
      "  inflating: data/Corpus of Presential Speeches/grant/grant_speeches_007.txt  \r\n",
      "  inflating: data/Corpus of Presential Speeches/grant/grant_speeches_008.txt  \r\n",
      "  inflating: data/Corpus of Presential Speeches/grant/grant_speeches_009.txt  \r\n",
      "  inflating: data/Corpus of Presential Speeches/grant/grant_speeches_010.txt  \r\n",
      "  inflating: data/Corpus of Presential Speeches/grant/grant_speeches_011.txt  \r\n",
      "  inflating: data/Corpus of Presential Speeches/grant/grant_speeches_012.txt  \r\n",
      "  inflating: data/Corpus of Presential Speeches/grant/grant_speeches_013.txt  \r\n",
      "  inflating: data/Corpus of Presential Speeches/grant/grant_speeches_014.txt  \r\n",
      "  inflating: data/Corpus of Presential Speeches/grant/grant_speeches_015.txt  \r\n",
      "  inflating: data/Corpus of Presential Speeches/grant/grant_speeches_016.txt  \r\n",
      "  inflating: data/Corpus of Presential Speeches/grant/grant_speeches_017.txt  \r\n",
      "  inflating: data/Corpus of Presential Speeches/grant/grant_speeches_018.txt  \r\n",
      "  inflating: data/Corpus of Presential Speeches/grant/grant_speeches_019.txt  \r\n",
      "  inflating: data/Corpus of Presential Speeches/grant/grant_speeches_020.txt  \r\n",
      "  inflating: data/Corpus of Presential Speeches/grant/grant_speeches_021.txt  \r\n",
      "  inflating: data/Corpus of Presential Speeches/grant/grant_speeches_022.txt  \r\n",
      "  inflating: data/Corpus of Presential Speeches/grant/grant_speeches_023.txt  \r\n",
      "  inflating: data/Corpus of Presential Speeches/grant/grant_speeches_024.txt  \r\n",
      "  inflating: data/Corpus of Presential Speeches/grant/grant_speeches_025.txt  \r\n",
      "  inflating: data/Corpus of Presential Speeches/grant/grant_speeches_026.txt  \r\n",
      "  inflating: data/Corpus of Presential Speeches/grant/grant_speeches_027.txt  \r\n",
      "  inflating: data/Corpus of Presential Speeches/grant/grant_speeches_028.txt  \r\n",
      "  inflating: data/Corpus of Presential Speeches/grant/grant_speeches_029.txt  \r\n",
      "  inflating: data/Corpus of Presential Speeches/grant/grant_speeches_030.txt  \r\n",
      "  inflating: data/Corpus of Presential Speeches/grant/grant_speeches_031.txt  \r\n",
      "   creating: data/Corpus of Presential Speeches/gwbush/\r\n",
      "  inflating: data/Corpus of Presential Speeches/gwbush/gwbush_speeches_000.txt  \r\n",
      "  inflating: data/Corpus of Presential Speeches/gwbush/gwbush_speeches_001.txt  \r\n",
      "  inflating: data/Corpus of Presential Speeches/gwbush/gwbush_speeches_002.txt  \r\n",
      "  inflating: data/Corpus of Presential Speeches/gwbush/gwbush_speeches_003.txt  \r\n",
      "  inflating: data/Corpus of Presential Speeches/gwbush/gwbush_speeches_004.txt  \r\n",
      "  inflating: data/Corpus of Presential Speeches/gwbush/gwbush_speeches_005.txt  \r\n",
      "  inflating: data/Corpus of Presential Speeches/gwbush/gwbush_speeches_006.txt  \r\n",
      "  inflating: data/Corpus of Presential Speeches/gwbush/gwbush_speeches_007.txt  \r\n",
      "  inflating: data/Corpus of Presential Speeches/gwbush/gwbush_speeches_008.txt  \r\n",
      "  inflating: data/Corpus of Presential Speeches/gwbush/gwbush_speeches_009.txt  \r\n",
      "  inflating: data/Corpus of Presential Speeches/gwbush/gwbush_speeches_010.txt  \r\n",
      "  inflating: data/Corpus of Presential Speeches/gwbush/gwbush_speeches_011.txt  \r\n",
      "  inflating: data/Corpus of Presential Speeches/gwbush/gwbush_speeches_012.txt  \r\n",
      "  inflating: data/Corpus of Presential Speeches/gwbush/gwbush_speeches_013.txt  \r\n",
      "  inflating: data/Corpus of Presential Speeches/gwbush/gwbush_speeches_014.txt  \r\n",
      "  inflating: data/Corpus of Presential Speeches/gwbush/gwbush_speeches_015.txt  \r\n",
      "  inflating: data/Corpus of Presential Speeches/gwbush/gwbush_speeches_016.txt  \r\n",
      "  inflating: data/Corpus of Presential Speeches/gwbush/gwbush_speeches_017.txt  \r\n",
      "  inflating: data/Corpus of Presential Speeches/gwbush/gwbush_speeches_018.txt  \r\n",
      "  inflating: data/Corpus of Presential Speeches/gwbush/gwbush_speeches_019.txt  \r\n",
      "  inflating: data/Corpus of Presential Speeches/gwbush/gwbush_speeches_020.txt  \r\n",
      "  inflating: data/Corpus of Presential Speeches/gwbush/gwbush_speeches_021.txt  \r\n",
      "  inflating: data/Corpus of Presential Speeches/gwbush/gwbush_speeches_022.txt  \r\n",
      "  inflating: data/Corpus of Presential Speeches/gwbush/gwbush_speeches_023.txt  \r\n",
      "  inflating: data/Corpus of Presential Speeches/gwbush/gwbush_speeches_024.txt  \r\n",
      "  inflating: data/Corpus of Presential Speeches/gwbush/gwbush_speeches_025.txt  \r\n",
      "  inflating: data/Corpus of Presential Speeches/gwbush/gwbush_speeches_026.txt  \r\n",
      "  inflating: data/Corpus of Presential Speeches/gwbush/gwbush_speeches_027.txt  \r\n",
      "  inflating: data/Corpus of Presential Speeches/gwbush/gwbush_speeches_028.txt  \r\n",
      "  inflating: data/Corpus of Presential Speeches/gwbush/gwbush_speeches_029.txt  \r\n",
      "  inflating: data/Corpus of Presential Speeches/gwbush/gwbush_speeches_030.txt  \r\n",
      "  inflating: data/Corpus of Presential Speeches/gwbush/gwbush_speeches_031.txt  \r\n",
      "  inflating: data/Corpus of Presential Speeches/gwbush/gwbush_speeches_032.txt  \r\n",
      "  inflating: data/Corpus of Presential Speeches/gwbush/gwbush_speeches_033.txt  \r\n",
      "  inflating: data/Corpus of Presential Speeches/gwbush/gwbush_speeches_034.txt  \r\n",
      "  inflating: data/Corpus of Presential Speeches/gwbush/gwbush_speeches_035.txt  \r\n",
      "  inflating: data/Corpus of Presential Speeches/gwbush/gwbush_speeches_036.txt  \r\n",
      "  inflating: data/Corpus of Presential Speeches/gwbush/gwbush_speeches_037.txt  \r\n",
      "  inflating: data/Corpus of Presential Speeches/gwbush/gwbush_speeches_038.txt  \r\n",
      "   creating: data/Corpus of Presential Speeches/harding/\r\n",
      "  inflating: data/Corpus of Presential Speeches/harding/harding_speeches_000.txt  \r\n",
      "  inflating: data/Corpus of Presential Speeches/harding/harding_speeches_001.txt  \r\n",
      "  inflating: data/Corpus of Presential Speeches/harding/harding_speeches_002.txt  \r\n",
      "  inflating: data/Corpus of Presential Speeches/harding/harding_speeches_003.txt  \r\n",
      "  inflating: data/Corpus of Presential Speeches/harding/harding_speeches_004.txt  \r\n",
      "  inflating: data/Corpus of Presential Speeches/harding/harding_speeches_005.txt  \r\n",
      "  inflating: data/Corpus of Presential Speeches/harding/harding_speeches_006.txt  \r\n",
      "  inflating: data/Corpus of Presential Speeches/harding/harding_speeches_007.txt  \r\n",
      "  inflating: data/Corpus of Presential Speeches/harding/harding_speeches_008.txt  \r\n",
      "  inflating: data/Corpus of Presential Speeches/harding/harding_speeches_009.txt  \r\n",
      "  inflating: data/Corpus of Presential Speeches/harding/harding_speeches_010.txt  \r\n",
      "  inflating: data/Corpus of Presential Speeches/harding/harding_speeches_011.txt  \r\n",
      "  inflating: data/Corpus of Presential Speeches/harding/harding_speeches_012.txt  \r\n",
      "  inflating: data/Corpus of Presential Speeches/harding/harding_speeches_013.txt  \r\n",
      "  inflating: data/Corpus of Presential Speeches/harding/harding_speeches_014.txt  \r\n",
      "  inflating: data/Corpus of Presential Speeches/harding/harding_speeches_015.txt  \r\n",
      "  inflating: data/Corpus of Presential Speeches/harding/harding_speeches_016.txt  \r\n",
      "  inflating: data/Corpus of Presential Speeches/harding/harding_speeches_017.txt  \r\n",
      "   creating: data/Corpus of Presential Speeches/harrison/\r\n",
      "  inflating: data/Corpus of Presential Speeches/harrison/harrison_speeches_000.txt  \r\n",
      "   creating: data/Corpus of Presential Speeches/hayes/\r\n",
      "  inflating: data/Corpus of Presential Speeches/hayes/hayes_speeches_000.txt  \r\n",
      "  inflating: data/Corpus of Presential Speeches/hayes/hayes_speeches_001.txt  \r\n",
      "  inflating: data/Corpus of Presential Speeches/hayes/hayes_speeches_002.txt  \r\n",
      "  inflating: data/Corpus of Presential Speeches/hayes/hayes_speeches_003.txt  \r\n",
      "  inflating: data/Corpus of Presential Speeches/hayes/hayes_speeches_004.txt  \r\n",
      "  inflating: data/Corpus of Presential Speeches/hayes/hayes_speeches_005.txt  \r\n",
      "  inflating: data/Corpus of Presential Speeches/hayes/hayes_speeches_006.txt  \r\n",
      "  inflating: data/Corpus of Presential Speeches/hayes/hayes_speeches_007.txt  \r\n",
      "  inflating: data/Corpus of Presential Speeches/hayes/hayes_speeches_008.txt  \r\n",
      "  inflating: data/Corpus of Presential Speeches/hayes/hayes_speeches_009.txt  \r\n",
      "  inflating: data/Corpus of Presential Speeches/hayes/hayes_speeches_010.txt  \r\n",
      "  inflating: data/Corpus of Presential Speeches/hayes/hayes_speeches_011.txt  \r\n",
      "  inflating: data/Corpus of Presential Speeches/hayes/hayes_speeches_012.txt  \r\n",
      "  inflating: data/Corpus of Presential Speeches/hayes/hayes_speeches_013.txt  \r\n",
      "  inflating: data/Corpus of Presential Speeches/hayes/hayes_speeches_014.txt  \r\n",
      "  inflating: data/Corpus of Presential Speeches/hayes/hayes_speeches_015.txt  \r\n",
      "   creating: data/Corpus of Presential Speeches/hoover/\r\n",
      "  inflating: data/Corpus of Presential Speeches/hoover/hoover_speeches_000.txt  \r\n",
      "  inflating: data/Corpus of Presential Speeches/hoover/hoover_speeches_001.txt  \r\n",
      "  inflating: data/Corpus of Presential Speeches/hoover/hoover_speeches_002.txt  \r\n",
      "  inflating: data/Corpus of Presential Speeches/hoover/hoover_speeches_003.txt  \r\n",
      "  inflating: data/Corpus of Presential Speeches/hoover/hoover_speeches_004.txt  \r\n",
      "  inflating: data/Corpus of Presential Speeches/hoover/hoover_speeches_005.txt  \r\n",
      "  inflating: data/Corpus of Presential Speeches/hoover/hoover_speeches_006.txt  \r\n",
      "  inflating: data/Corpus of Presential Speeches/hoover/hoover_speeches_007.txt  \r\n",
      "  inflating: data/Corpus of Presential Speeches/hoover/hoover_speeches_008.txt  \r\n",
      "  inflating: data/Corpus of Presential Speeches/hoover/hoover_speeches_009.txt  \r\n",
      "  inflating: data/Corpus of Presential Speeches/hoover/hoover_speeches_010.txt  \r\n",
      "  inflating: data/Corpus of Presential Speeches/hoover/hoover_speeches_011.txt  \r\n",
      "  inflating: data/Corpus of Presential Speeches/hoover/hoover_speeches_012.txt  \r\n",
      "  inflating: data/Corpus of Presential Speeches/hoover/hoover_speeches_013.txt  \r\n",
      "  inflating: data/Corpus of Presential Speeches/hoover/hoover_speeches_014.txt  \r\n",
      "  inflating: data/Corpus of Presential Speeches/hoover/hoover_speeches_015.txt  \r\n",
      "  inflating: data/Corpus of Presential Speeches/hoover/hoover_speeches_016.txt  \r\n",
      "  inflating: data/Corpus of Presential Speeches/hoover/hoover_speeches_017.txt  \r\n",
      "  inflating: data/Corpus of Presential Speeches/hoover/hoover_speeches_018.txt  \r\n",
      "  inflating: data/Corpus of Presential Speeches/hoover/hoover_speeches_019.txt  \r\n",
      "  inflating: data/Corpus of Presential Speeches/hoover/hoover_speeches_020.txt  \r\n",
      "  inflating: data/Corpus of Presential Speeches/hoover/hoover_speeches_021.txt  \r\n",
      "  inflating: data/Corpus of Presential Speeches/hoover/hoover_speeches_022.txt  \r\n",
      "  inflating: data/Corpus of Presential Speeches/hoover/hoover_speeches_023.txt  \r\n",
      "  inflating: data/Corpus of Presential Speeches/hoover/hoover_speeches_024.txt  \r\n",
      "  inflating: data/Corpus of Presential Speeches/hoover/hoover_speeches_025.txt  \r\n",
      "  inflating: data/Corpus of Presential Speeches/hoover/hoover_speeches_026.txt  \r\n",
      "  inflating: data/Corpus of Presential Speeches/hoover/hoover_speeches_027.txt  \r\n",
      "  inflating: data/Corpus of Presential Speeches/hoover/hoover_speeches_028.txt  \r\n",
      "   creating: data/Corpus of Presential Speeches/jackson/\r\n",
      "  inflating: data/Corpus of Presential Speeches/jackson/jackson_speeches_000.txt  \r\n",
      "  inflating: data/Corpus of Presential Speeches/jackson/jackson_speeches_001.txt  \r\n",
      "  inflating: data/Corpus of Presential Speeches/jackson/jackson_speeches_002.txt  \r\n",
      "  inflating: data/Corpus of Presential Speeches/jackson/jackson_speeches_003.txt  \r\n",
      "  inflating: data/Corpus of Presential Speeches/jackson/jackson_speeches_004.txt  \r\n",
      "  inflating: data/Corpus of Presential Speeches/jackson/jackson_speeches_005.txt  \r\n",
      "  inflating: data/Corpus of Presential Speeches/jackson/jackson_speeches_006.txt  \r\n",
      "  inflating: data/Corpus of Presential Speeches/jackson/jackson_speeches_007.txt  \r\n",
      "  inflating: data/Corpus of Presential Speeches/jackson/jackson_speeches_008.txt  \r\n",
      "  inflating: data/Corpus of Presential Speeches/jackson/jackson_speeches_009.txt  \r\n",
      "  inflating: data/Corpus of Presential Speeches/jackson/jackson_speeches_010.txt  \r\n",
      "  inflating: data/Corpus of Presential Speeches/jackson/jackson_speeches_011.txt  \r\n",
      "  inflating: data/Corpus of Presential Speeches/jackson/jackson_speeches_012.txt  \r\n",
      "  inflating: data/Corpus of Presential Speeches/jackson/jackson_speeches_013.txt  \r\n",
      "  inflating: data/Corpus of Presential Speeches/jackson/jackson_speeches_014.txt  \r\n",
      "  inflating: data/Corpus of Presential Speeches/jackson/jackson_speeches_015.txt  \r\n",
      "  inflating: data/Corpus of Presential Speeches/jackson/jackson_speeches_016.txt  \r\n",
      "  inflating: data/Corpus of Presential Speeches/jackson/jackson_speeches_017.txt  \r\n",
      "  inflating: data/Corpus of Presential Speeches/jackson/jackson_speeches_018.txt  \r\n",
      "  inflating: data/Corpus of Presential Speeches/jackson/jackson_speeches_019.txt  \r\n",
      "  inflating: data/Corpus of Presential Speeches/jackson/jackson_speeches_020.txt  \r\n",
      "  inflating: data/Corpus of Presential Speeches/jackson/jackson_speeches_021.txt  \r\n",
      "  inflating: data/Corpus of Presential Speeches/jackson/jackson_speeches_022.txt  \r\n",
      "  inflating: data/Corpus of Presential Speeches/jackson/jackson_speeches_023.txt  \r\n",
      "  inflating: data/Corpus of Presential Speeches/jackson/jackson_speeches_024.txt  \r\n",
      "  inflating: data/Corpus of Presential Speeches/jackson/jackson_speeches_025.txt  \r\n",
      "   creating: data/Corpus of Presential Speeches/jefferson/\r\n",
      "  inflating: data/Corpus of Presential Speeches/jefferson/jefferson_speeches_000.txt  \r\n",
      "  inflating: data/Corpus of Presential Speeches/jefferson/jefferson_speeches_001.txt  \r\n",
      "  inflating: data/Corpus of Presential Speeches/jefferson/jefferson_speeches_002.txt  \r\n",
      "  inflating: data/Corpus of Presential Speeches/jefferson/jefferson_speeches_003.txt  \r\n",
      "  inflating: data/Corpus of Presential Speeches/jefferson/jefferson_speeches_004.txt  \r\n",
      "  inflating: data/Corpus of Presential Speeches/jefferson/jefferson_speeches_005.txt  \r\n",
      "  inflating: data/Corpus of Presential Speeches/jefferson/jefferson_speeches_006.txt  \r\n",
      "  inflating: data/Corpus of Presential Speeches/jefferson/jefferson_speeches_007.txt  \r\n",
      "  inflating: data/Corpus of Presential Speeches/jefferson/jefferson_speeches_008.txt  \r\n",
      "  inflating: data/Corpus of Presential Speeches/jefferson/jefferson_speeches_009.txt  \r\n",
      "  inflating: data/Corpus of Presential Speeches/jefferson/jefferson_speeches_010.txt  \r\n",
      "  inflating: data/Corpus of Presential Speeches/jefferson/jefferson_speeches_011.txt  \r\n",
      "  inflating: data/Corpus of Presential Speeches/jefferson/jefferson_speeches_012.txt  \r\n",
      "  inflating: data/Corpus of Presential Speeches/jefferson/jefferson_speeches_013.txt  \r\n",
      "  inflating: data/Corpus of Presential Speeches/jefferson/jefferson_speeches_014.txt  \r\n",
      "  inflating: data/Corpus of Presential Speeches/jefferson/jefferson_speeches_015.txt  \r\n",
      "  inflating: data/Corpus of Presential Speeches/jefferson/jefferson_speeches_016.txt  \r\n"
     ]
    },
    {
     "name": "stdout",
     "output_type": "stream",
     "text": [
      "  inflating: data/Corpus of Presential Speeches/jefferson/jefferson_speeches_017.txt  \r\n",
      "  inflating: data/Corpus of Presential Speeches/jefferson/jefferson_speeches_018.txt  \r\n",
      "  inflating: data/Corpus of Presential Speeches/jefferson/jefferson_speeches_019.txt  \r\n",
      "  inflating: data/Corpus of Presential Speeches/jefferson/jefferson_speeches_020.txt  \r\n",
      "  inflating: data/Corpus of Presential Speeches/jefferson/jefferson_speeches_021.txt  \r\n",
      "  inflating: data/Corpus of Presential Speeches/jefferson/jefferson_speeches_022.txt  \r\n",
      "  inflating: data/Corpus of Presential Speeches/jefferson/jefferson_speeches_023.txt  \r\n",
      "   creating: data/Corpus of Presential Speeches/johnson/\r\n",
      "  inflating: data/Corpus of Presential Speeches/johnson/johnson_speeches_000.txt  \r\n",
      "  inflating: data/Corpus of Presential Speeches/johnson/johnson_speeches_001.txt  \r\n",
      "  inflating: data/Corpus of Presential Speeches/johnson/johnson_speeches_002.txt  \r\n",
      "  inflating: data/Corpus of Presential Speeches/johnson/johnson_speeches_003.txt  \r\n",
      "  inflating: data/Corpus of Presential Speeches/johnson/johnson_speeches_004.txt  \r\n",
      "  inflating: data/Corpus of Presential Speeches/johnson/johnson_speeches_005.txt  \r\n",
      "  inflating: data/Corpus of Presential Speeches/johnson/johnson_speeches_006.txt  \r\n",
      "  inflating: data/Corpus of Presential Speeches/johnson/johnson_speeches_007.txt  \r\n",
      "  inflating: data/Corpus of Presential Speeches/johnson/johnson_speeches_008.txt  \r\n",
      "  inflating: data/Corpus of Presential Speeches/johnson/johnson_speeches_009.txt  \r\n",
      "  inflating: data/Corpus of Presential Speeches/johnson/johnson_speeches_010.txt  \r\n",
      "  inflating: data/Corpus of Presential Speeches/johnson/johnson_speeches_011.txt  \r\n",
      "  inflating: data/Corpus of Presential Speeches/johnson/johnson_speeches_012.txt  \r\n",
      "  inflating: data/Corpus of Presential Speeches/johnson/johnson_speeches_013.txt  \r\n",
      "  inflating: data/Corpus of Presential Speeches/johnson/johnson_speeches_014.txt  \r\n",
      "  inflating: data/Corpus of Presential Speeches/johnson/johnson_speeches_015.txt  \r\n",
      "  inflating: data/Corpus of Presential Speeches/johnson/johnson_speeches_016.txt  \r\n",
      "  inflating: data/Corpus of Presential Speeches/johnson/johnson_speeches_017.txt  \r\n",
      "  inflating: data/Corpus of Presential Speeches/johnson/johnson_speeches_018.txt  \r\n",
      "  inflating: data/Corpus of Presential Speeches/johnson/johnson_speeches_019.txt  \r\n",
      "  inflating: data/Corpus of Presential Speeches/johnson/johnson_speeches_020.txt  \r\n",
      "  inflating: data/Corpus of Presential Speeches/johnson/johnson_speeches_021.txt  \r\n",
      "  inflating: data/Corpus of Presential Speeches/johnson/johnson_speeches_022.txt  \r\n",
      "  inflating: data/Corpus of Presential Speeches/johnson/johnson_speeches_023.txt  \r\n",
      "  inflating: data/Corpus of Presential Speeches/johnson/johnson_speeches_024.txt  \r\n",
      "  inflating: data/Corpus of Presential Speeches/johnson/johnson_speeches_025.txt  \r\n",
      "  inflating: data/Corpus of Presential Speeches/johnson/johnson_speeches_026.txt  \r\n",
      "  inflating: data/Corpus of Presential Speeches/johnson/johnson_speeches_027.txt  \r\n",
      "  inflating: data/Corpus of Presential Speeches/johnson/johnson_speeches_028.txt  \r\n",
      "  inflating: data/Corpus of Presential Speeches/johnson/johnson_speeches_029.txt  \r\n",
      "  inflating: data/Corpus of Presential Speeches/johnson/johnson_speeches_030.txt  \r\n",
      "   creating: data/Corpus of Presential Speeches/jqadams/\r\n",
      "  inflating: data/Corpus of Presential Speeches/jqadams/jqadams_speeches_000.txt  \r\n",
      "  inflating: data/Corpus of Presential Speeches/jqadams/jqadams_speeches_001.txt  \r\n",
      "  inflating: data/Corpus of Presential Speeches/jqadams/jqadams_speeches_002.txt  \r\n",
      "  inflating: data/Corpus of Presential Speeches/jqadams/jqadams_speeches_003.txt  \r\n",
      "  inflating: data/Corpus of Presential Speeches/jqadams/jqadams_speeches_004.txt  \r\n",
      "  inflating: data/Corpus of Presential Speeches/jqadams/jqadams_speeches_005.txt  \r\n",
      "  inflating: data/Corpus of Presential Speeches/jqadams/jqadams_speeches_006.txt  \r\n",
      "  inflating: data/Corpus of Presential Speeches/jqadams/jqadams_speeches_007.txt  \r\n",
      "   creating: data/Corpus of Presential Speeches/kennedy/\r\n",
      "  inflating: data/Corpus of Presential Speeches/kennedy/kennedy_speeches_000.txt  \r\n",
      "  inflating: data/Corpus of Presential Speeches/kennedy/kennedy_speeches_001.txt  \r\n",
      "  inflating: data/Corpus of Presential Speeches/kennedy/kennedy_speeches_002.txt  \r\n",
      "  inflating: data/Corpus of Presential Speeches/kennedy/kennedy_speeches_003.txt  \r\n",
      "  inflating: data/Corpus of Presential Speeches/kennedy/kennedy_speeches_004.txt  \r\n",
      "  inflating: data/Corpus of Presential Speeches/kennedy/kennedy_speeches_005.txt  \r\n",
      "  inflating: data/Corpus of Presential Speeches/kennedy/kennedy_speeches_006.txt  \r\n",
      "  inflating: data/Corpus of Presential Speeches/kennedy/kennedy_speeches_007.txt  \r\n",
      "  inflating: data/Corpus of Presential Speeches/kennedy/kennedy_speeches_008.txt  \r\n",
      "  inflating: data/Corpus of Presential Speeches/kennedy/kennedy_speeches_009.txt  \r\n",
      "  inflating: data/Corpus of Presential Speeches/kennedy/kennedy_speeches_010.txt  \r\n",
      "  inflating: data/Corpus of Presential Speeches/kennedy/kennedy_speeches_011.txt  \r\n",
      "  inflating: data/Corpus of Presential Speeches/kennedy/kennedy_speeches_012.txt  \r\n",
      "  inflating: data/Corpus of Presential Speeches/kennedy/kennedy_speeches_013.txt  \r\n",
      "  inflating: data/Corpus of Presential Speeches/kennedy/kennedy_speeches_014.txt  \r\n",
      "  inflating: data/Corpus of Presential Speeches/kennedy/kennedy_speeches_015.txt  \r\n",
      "  inflating: data/Corpus of Presential Speeches/kennedy/kennedy_speeches_016.txt  \r\n",
      "  inflating: data/Corpus of Presential Speeches/kennedy/kennedy_speeches_017.txt  \r\n",
      "  inflating: data/Corpus of Presential Speeches/kennedy/kennedy_speeches_018.txt  \r\n",
      "  inflating: data/Corpus of Presential Speeches/kennedy/kennedy_speeches_019.txt  \r\n",
      "  inflating: data/Corpus of Presential Speeches/kennedy/kennedy_speeches_020.txt  \r\n",
      "  inflating: data/Corpus of Presential Speeches/kennedy/kennedy_speeches_021.txt  \r\n",
      "  inflating: data/Corpus of Presential Speeches/kennedy/kennedy_speeches_022.txt  \r\n",
      "  inflating: data/Corpus of Presential Speeches/kennedy/kennedy_speeches_023.txt  \r\n",
      "  inflating: data/Corpus of Presential Speeches/kennedy/kennedy_speeches_024.txt  \r\n",
      "  inflating: data/Corpus of Presential Speeches/kennedy/kennedy_speeches_025.txt  \r\n",
      "  inflating: data/Corpus of Presential Speeches/kennedy/kennedy_speeches_026.txt  \r\n",
      "  inflating: data/Corpus of Presential Speeches/kennedy/kennedy_speeches_027.txt  \r\n",
      "  inflating: data/Corpus of Presential Speeches/kennedy/kennedy_speeches_028.txt  \r\n",
      "  inflating: data/Corpus of Presential Speeches/kennedy/kennedy_speeches_029.txt  \r\n",
      "  inflating: data/Corpus of Presential Speeches/kennedy/kennedy_speeches_030.txt  \r\n",
      "  inflating: data/Corpus of Presential Speeches/kennedy/kennedy_speeches_031.txt  \r\n",
      "  inflating: data/Corpus of Presential Speeches/kennedy/kennedy_speeches_032.txt  \r\n",
      "  inflating: data/Corpus of Presential Speeches/kennedy/kennedy_speeches_033.txt  \r\n",
      "  inflating: data/Corpus of Presential Speeches/kennedy/kennedy_speeches_034.txt  \r\n",
      "  inflating: data/Corpus of Presential Speeches/kennedy/kennedy_speeches_035.txt  \r\n",
      "  inflating: data/Corpus of Presential Speeches/kennedy/kennedy_speeches_036.txt  \r\n",
      "  inflating: data/Corpus of Presential Speeches/kennedy/kennedy_speeches_037.txt  \r\n",
      "  inflating: data/Corpus of Presential Speeches/kennedy/kennedy_speeches_038.txt  \r\n",
      "  inflating: data/Corpus of Presential Speeches/kennedy/kennedy_speeches_039.txt  \r\n",
      "  inflating: data/Corpus of Presential Speeches/kennedy/kennedy_speeches_040.txt  \r\n",
      "  inflating: data/Corpus of Presential Speeches/kennedy/kennedy_speeches_041.txt  \r\n",
      "  inflating: data/Corpus of Presential Speeches/kennedy/kennedy_speeches_042.txt  \r\n",
      "  inflating: data/Corpus of Presential Speeches/kennedy/kennedy_speeches_043.txt  \r\n",
      "  inflating: data/Corpus of Presential Speeches/kennedy/kennedy_speeches_044.txt  \r\n",
      "   creating: data/Corpus of Presential Speeches/lbjohnson/\r\n",
      "  inflating: data/Corpus of Presential Speeches/lbjohnson/lbjohnson_speeches_000.txt  \r\n",
      "  inflating: data/Corpus of Presential Speeches/lbjohnson/lbjohnson_speeches_001.txt  \r\n",
      "  inflating: data/Corpus of Presential Speeches/lbjohnson/lbjohnson_speeches_002.txt  \r\n",
      "  inflating: data/Corpus of Presential Speeches/lbjohnson/lbjohnson_speeches_003.txt  \r\n",
      "  inflating: data/Corpus of Presential Speeches/lbjohnson/lbjohnson_speeches_004.txt  \r\n",
      "  inflating: data/Corpus of Presential Speeches/lbjohnson/lbjohnson_speeches_005.txt  \r\n",
      "  inflating: data/Corpus of Presential Speeches/lbjohnson/lbjohnson_speeches_006.txt  \r\n",
      "  inflating: data/Corpus of Presential Speeches/lbjohnson/lbjohnson_speeches_007.txt  \r\n",
      "  inflating: data/Corpus of Presential Speeches/lbjohnson/lbjohnson_speeches_008.txt  \r\n",
      "  inflating: data/Corpus of Presential Speeches/lbjohnson/lbjohnson_speeches_009.txt  \r\n",
      "  inflating: data/Corpus of Presential Speeches/lbjohnson/lbjohnson_speeches_010.txt  \r\n",
      "  inflating: data/Corpus of Presential Speeches/lbjohnson/lbjohnson_speeches_011.txt  \r\n",
      "  inflating: data/Corpus of Presential Speeches/lbjohnson/lbjohnson_speeches_012.txt  \r\n",
      "  inflating: data/Corpus of Presential Speeches/lbjohnson/lbjohnson_speeches_013.txt  \r\n",
      "  inflating: data/Corpus of Presential Speeches/lbjohnson/lbjohnson_speeches_014.txt  \r\n",
      "  inflating: data/Corpus of Presential Speeches/lbjohnson/lbjohnson_speeches_015.txt  \r\n",
      "  inflating: data/Corpus of Presential Speeches/lbjohnson/lbjohnson_speeches_016.txt  \r\n",
      "  inflating: data/Corpus of Presential Speeches/lbjohnson/lbjohnson_speeches_017.txt  \r\n",
      "  inflating: data/Corpus of Presential Speeches/lbjohnson/lbjohnson_speeches_018.txt  \r\n",
      "  inflating: data/Corpus of Presential Speeches/lbjohnson/lbjohnson_speeches_019.txt  \r\n",
      "  inflating: data/Corpus of Presential Speeches/lbjohnson/lbjohnson_speeches_020.txt  \r\n",
      "  inflating: data/Corpus of Presential Speeches/lbjohnson/lbjohnson_speeches_021.txt  \r\n",
      "  inflating: data/Corpus of Presential Speeches/lbjohnson/lbjohnson_speeches_022.txt  \r\n",
      "  inflating: data/Corpus of Presential Speeches/lbjohnson/lbjohnson_speeches_023.txt  \r\n",
      "  inflating: data/Corpus of Presential Speeches/lbjohnson/lbjohnson_speeches_024.txt  \r\n",
      "  inflating: data/Corpus of Presential Speeches/lbjohnson/lbjohnson_speeches_025.txt  \r\n",
      "  inflating: data/Corpus of Presential Speeches/lbjohnson/lbjohnson_speeches_026.txt  \r\n",
      "  inflating: data/Corpus of Presential Speeches/lbjohnson/lbjohnson_speeches_027.txt  \r\n",
      "  inflating: data/Corpus of Presential Speeches/lbjohnson/lbjohnson_speeches_028.txt  \r\n",
      "  inflating: data/Corpus of Presential Speeches/lbjohnson/lbjohnson_speeches_029.txt  \r\n",
      "  inflating: data/Corpus of Presential Speeches/lbjohnson/lbjohnson_speeches_030.txt  \r\n",
      "  inflating: data/Corpus of Presential Speeches/lbjohnson/lbjohnson_speeches_031.txt  \r\n",
      "  inflating: data/Corpus of Presential Speeches/lbjohnson/lbjohnson_speeches_032.txt  \r\n",
      "  inflating: data/Corpus of Presential Speeches/lbjohnson/lbjohnson_speeches_033.txt  \r\n",
      "  inflating: data/Corpus of Presential Speeches/lbjohnson/lbjohnson_speeches_034.txt  \r\n",
      "  inflating: data/Corpus of Presential Speeches/lbjohnson/lbjohnson_speeches_035.txt  \r\n",
      "  inflating: data/Corpus of Presential Speeches/lbjohnson/lbjohnson_speeches_036.txt  \r\n",
      "  inflating: data/Corpus of Presential Speeches/lbjohnson/lbjohnson_speeches_037.txt  \r\n",
      "  inflating: data/Corpus of Presential Speeches/lbjohnson/lbjohnson_speeches_038.txt  \r\n",
      "  inflating: data/Corpus of Presential Speeches/lbjohnson/lbjohnson_speeches_039.txt  \r\n",
      "  inflating: data/Corpus of Presential Speeches/lbjohnson/lbjohnson_speeches_040.txt  \r\n",
      "  inflating: data/Corpus of Presential Speeches/lbjohnson/lbjohnson_speeches_041.txt  \r\n",
      "  inflating: data/Corpus of Presential Speeches/lbjohnson/lbjohnson_speeches_042.txt  \r\n",
      "  inflating: data/Corpus of Presential Speeches/lbjohnson/lbjohnson_speeches_043.txt  \r\n",
      "  inflating: data/Corpus of Presential Speeches/lbjohnson/lbjohnson_speeches_044.txt  \r\n",
      "  inflating: data/Corpus of Presential Speeches/lbjohnson/lbjohnson_speeches_045.txt  \r\n",
      "  inflating: data/Corpus of Presential Speeches/lbjohnson/lbjohnson_speeches_046.txt  \r\n",
      "  inflating: data/Corpus of Presential Speeches/lbjohnson/lbjohnson_speeches_047.txt  \r\n",
      "  inflating: data/Corpus of Presential Speeches/lbjohnson/lbjohnson_speeches_048.txt  \r\n",
      "  inflating: data/Corpus of Presential Speeches/lbjohnson/lbjohnson_speeches_049.txt  \r\n",
      "  inflating: data/Corpus of Presential Speeches/lbjohnson/lbjohnson_speeches_050.txt  \r\n",
      "  inflating: data/Corpus of Presential Speeches/lbjohnson/lbjohnson_speeches_051.txt  \r\n",
      "  inflating: data/Corpus of Presential Speeches/lbjohnson/lbjohnson_speeches_052.txt  \r\n",
      "  inflating: data/Corpus of Presential Speeches/lbjohnson/lbjohnson_speeches_053.txt  \r\n",
      "  inflating: data/Corpus of Presential Speeches/lbjohnson/lbjohnson_speeches_054.txt  \r\n",
      "  inflating: data/Corpus of Presential Speeches/lbjohnson/lbjohnson_speeches_055.txt  \r\n",
      "  inflating: data/Corpus of Presential Speeches/lbjohnson/lbjohnson_speeches_056.txt  \r\n",
      "  inflating: data/Corpus of Presential Speeches/lbjohnson/lbjohnson_speeches_057.txt  \r\n",
      "  inflating: data/Corpus of Presential Speeches/lbjohnson/lbjohnson_speeches_058.txt  \r\n",
      "  inflating: data/Corpus of Presential Speeches/lbjohnson/lbjohnson_speeches_059.txt  \r\n",
      "  inflating: data/Corpus of Presential Speeches/lbjohnson/lbjohnson_speeches_060.txt  \r\n",
      "  inflating: data/Corpus of Presential Speeches/lbjohnson/lbjohnson_speeches_061.txt  \r\n",
      "  inflating: data/Corpus of Presential Speeches/lbjohnson/lbjohnson_speeches_062.txt  \r\n",
      "  inflating: data/Corpus of Presential Speeches/lbjohnson/lbjohnson_speeches_063.txt  \r\n",
      "  inflating: data/Corpus of Presential Speeches/lbjohnson/lbjohnson_speeches_064.txt  \r\n",
      "  inflating: data/Corpus of Presential Speeches/lbjohnson/lbjohnson_speeches_065.txt  \r\n",
      "  inflating: data/Corpus of Presential Speeches/lbjohnson/lbjohnson_speeches_066.txt  \r\n",
      "  inflating: data/Corpus of Presential Speeches/lbjohnson/lbjohnson_speeches_067.txt  \r\n",
      "  inflating: data/Corpus of Presential Speeches/lbjohnson/lbjohnson_speeches_068.txt  \r\n",
      "  inflating: data/Corpus of Presential Speeches/lbjohnson/lbjohnson_speeches_069.txt  \r\n",
      "  inflating: data/Corpus of Presential Speeches/lbjohnson/lbjohnson_speeches_070.txt  \r\n",
      "   creating: data/Corpus of Presential Speeches/lincoln/\r\n",
      "  inflating: data/Corpus of Presential Speeches/lincoln/lincoln_speeches_000.txt  \r\n",
      "  inflating: data/Corpus of Presential Speeches/lincoln/lincoln_speeches_001.txt  \r\n",
      "  inflating: data/Corpus of Presential Speeches/lincoln/lincoln_speeches_002.txt  \r\n",
      "  inflating: data/Corpus of Presential Speeches/lincoln/lincoln_speeches_003.txt  \r\n",
      "  inflating: data/Corpus of Presential Speeches/lincoln/lincoln_speeches_004.txt  \r\n",
      "  inflating: data/Corpus of Presential Speeches/lincoln/lincoln_speeches_005.txt  \r\n",
      "  inflating: data/Corpus of Presential Speeches/lincoln/lincoln_speeches_006.txt  \r\n",
      "  inflating: data/Corpus of Presential Speeches/lincoln/lincoln_speeches_007.txt  \r\n",
      "  inflating: data/Corpus of Presential Speeches/lincoln/lincoln_speeches_008.txt  \r\n",
      "  inflating: data/Corpus of Presential Speeches/lincoln/lincoln_speeches_009.txt  \r\n",
      "  inflating: data/Corpus of Presential Speeches/lincoln/lincoln_speeches_010.txt  \r\n",
      "  inflating: data/Corpus of Presential Speeches/lincoln/lincoln_speeches_011.txt  \r\n",
      "  inflating: data/Corpus of Presential Speeches/lincoln/lincoln_speeches_012.txt  \r\n",
      "  inflating: data/Corpus of Presential Speeches/lincoln/lincoln_speeches_013.txt  \r\n",
      "  inflating: data/Corpus of Presential Speeches/lincoln/lincoln_speeches_014.txt  \r\n",
      "   creating: data/Corpus of Presential Speeches/madison/\r\n",
      "  inflating: data/Corpus of Presential Speeches/madison/madison_speeches_000.txt  \r\n",
      "  inflating: data/Corpus of Presential Speeches/madison/madison_speeches_001.txt  \r\n",
      "  inflating: data/Corpus of Presential Speeches/madison/madison_speeches_002.txt  \r\n",
      "  inflating: data/Corpus of Presential Speeches/madison/madison_speeches_003.txt  \r\n",
      "  inflating: data/Corpus of Presential Speeches/madison/madison_speeches_004.txt  \r\n",
      "  inflating: data/Corpus of Presential Speeches/madison/madison_speeches_005.txt  \r\n",
      "  inflating: data/Corpus of Presential Speeches/madison/madison_speeches_006.txt  \r\n",
      "  inflating: data/Corpus of Presential Speeches/madison/madison_speeches_007.txt  \r\n",
      "  inflating: data/Corpus of Presential Speeches/madison/madison_speeches_008.txt  \r\n",
      "  inflating: data/Corpus of Presential Speeches/madison/madison_speeches_009.txt  \r\n",
      "  inflating: data/Corpus of Presential Speeches/madison/madison_speeches_010.txt  \r\n",
      "  inflating: data/Corpus of Presential Speeches/madison/madison_speeches_011.txt  \r\n",
      "  inflating: data/Corpus of Presential Speeches/madison/madison_speeches_012.txt  \r\n",
      "  inflating: data/Corpus of Presential Speeches/madison/madison_speeches_013.txt  \r\n",
      "  inflating: data/Corpus of Presential Speeches/madison/madison_speeches_014.txt  \r\n",
      "  inflating: data/Corpus of Presential Speeches/madison/madison_speeches_015.txt  \r\n",
      "  inflating: data/Corpus of Presential Speeches/madison/madison_speeches_016.txt  \r\n",
      "  inflating: data/Corpus of Presential Speeches/madison/madison_speeches_017.txt  \r\n",
      "  inflating: data/Corpus of Presential Speeches/madison/madison_speeches_018.txt  \r\n",
      "  inflating: data/Corpus of Presential Speeches/madison/madison_speeches_019.txt  \r\n",
      "  inflating: data/Corpus of Presential Speeches/madison/madison_speeches_020.txt  \r\n",
      "  inflating: data/Corpus of Presential Speeches/madison/madison_speeches_021.txt  \r\n",
      "   creating: data/Corpus of Presential Speeches/mckinley/\r\n",
      "  inflating: data/Corpus of Presential Speeches/mckinley/mckinley_speeches_000.txt  \r\n",
      "  inflating: data/Corpus of Presential Speeches/mckinley/mckinley_speeches_001.txt  \r\n",
      "  inflating: data/Corpus of Presential Speeches/mckinley/mckinley_speeches_002.txt  \r\n",
      "  inflating: data/Corpus of Presential Speeches/mckinley/mckinley_speeches_003.txt  \r\n",
      "  inflating: data/Corpus of Presential Speeches/mckinley/mckinley_speeches_004.txt  \r\n",
      "  inflating: data/Corpus of Presential Speeches/mckinley/mckinley_speeches_005.txt  \r\n",
      "  inflating: data/Corpus of Presential Speeches/mckinley/mckinley_speeches_006.txt  \r\n",
      "  inflating: data/Corpus of Presential Speeches/mckinley/mckinley_speeches_007.txt  \r\n",
      "  inflating: data/Corpus of Presential Speeches/mckinley/mckinley_speeches_008.txt  \r\n",
      "  inflating: data/Corpus of Presential Speeches/mckinley/mckinley_speeches_009.txt  \r\n",
      "  inflating: data/Corpus of Presential Speeches/mckinley/mckinley_speeches_010.txt  \r\n",
      "  inflating: data/Corpus of Presential Speeches/mckinley/mckinley_speeches_011.txt  \r\n",
      "  inflating: data/Corpus of Presential Speeches/mckinley/mckinley_speeches_012.txt  \r\n",
      "  inflating: data/Corpus of Presential Speeches/mckinley/mckinley_speeches_013.txt  \r\n",
      "   creating: data/Corpus of Presential Speeches/monroe/\r\n",
      "  inflating: data/Corpus of Presential Speeches/monroe/monroe_speeches_000.txt  \r\n",
      "  inflating: data/Corpus of Presential Speeches/monroe/monroe_speeches_001.txt  \r\n",
      "  inflating: data/Corpus of Presential Speeches/monroe/monroe_speeches_002.txt  \r\n",
      "  inflating: data/Corpus of Presential Speeches/monroe/monroe_speeches_003.txt  \r\n",
      "  inflating: data/Corpus of Presential Speeches/monroe/monroe_speeches_004.txt  \r\n",
      "  inflating: data/Corpus of Presential Speeches/monroe/monroe_speeches_005.txt  \r\n",
      "  inflating: data/Corpus of Presential Speeches/monroe/monroe_speeches_006.txt  \r\n",
      "  inflating: data/Corpus of Presential Speeches/monroe/monroe_speeches_007.txt  \r\n",
      "  inflating: data/Corpus of Presential Speeches/monroe/monroe_speeches_008.txt  \r\n",
      "  inflating: data/Corpus of Presential Speeches/monroe/monroe_speeches_009.txt  \r\n",
      "   creating: data/Corpus of Presential Speeches/nixon/\r\n",
      "  inflating: data/Corpus of Presential Speeches/nixon/nixon_speeches_000.txt  \r\n",
      "  inflating: data/Corpus of Presential Speeches/nixon/nixon_speeches_001.txt  \r\n",
      "  inflating: data/Corpus of Presential Speeches/nixon/nixon_speeches_002.txt  \r\n",
      "  inflating: data/Corpus of Presential Speeches/nixon/nixon_speeches_003.txt  \r\n",
      "  inflating: data/Corpus of Presential Speeches/nixon/nixon_speeches_004.txt  \r\n",
      "  inflating: data/Corpus of Presential Speeches/nixon/nixon_speeches_005.txt  \r\n",
      "  inflating: data/Corpus of Presential Speeches/nixon/nixon_speeches_006.txt  \r\n",
      "  inflating: data/Corpus of Presential Speeches/nixon/nixon_speeches_007.txt  \r\n",
      "  inflating: data/Corpus of Presential Speeches/nixon/nixon_speeches_008.txt  \r\n",
      "  inflating: data/Corpus of Presential Speeches/nixon/nixon_speeches_009.txt  \r\n",
      "  inflating: data/Corpus of Presential Speeches/nixon/nixon_speeches_010.txt  \r\n",
      "  inflating: data/Corpus of Presential Speeches/nixon/nixon_speeches_011.txt  \r\n",
      "  inflating: data/Corpus of Presential Speeches/nixon/nixon_speeches_012.txt  \r\n",
      "  inflating: data/Corpus of Presential Speeches/nixon/nixon_speeches_013.txt  \r\n",
      "  inflating: data/Corpus of Presential Speeches/nixon/nixon_speeches_014.txt  \r\n",
      "  inflating: data/Corpus of Presential Speeches/nixon/nixon_speeches_015.txt  \r\n",
      "  inflating: data/Corpus of Presential Speeches/nixon/nixon_speeches_016.txt  \r\n",
      "  inflating: data/Corpus of Presential Speeches/nixon/nixon_speeches_017.txt  \r\n",
      "  inflating: data/Corpus of Presential Speeches/nixon/nixon_speeches_018.txt  \r\n",
      "  inflating: data/Corpus of Presential Speeches/nixon/nixon_speeches_019.txt  \r\n",
      "  inflating: data/Corpus of Presential Speeches/nixon/nixon_speeches_020.txt  \r\n",
      "  inflating: data/Corpus of Presential Speeches/nixon/nixon_speeches_021.txt  \r\n",
      "  inflating: data/Corpus of Presential Speeches/nixon/nixon_speeches_022.txt  \r\n",
      "   creating: data/Corpus of Presential Speeches/obama/\r\n",
      "  inflating: data/Corpus of Presential Speeches/obama/obama_speeches_000.txt  \r\n",
      "  inflating: data/Corpus of Presential Speeches/obama/obama_speeches_001.txt  \r\n",
      "  inflating: data/Corpus of Presential Speeches/obama/obama_speeches_002.txt  \r\n",
      "  inflating: data/Corpus of Presential Speeches/obama/obama_speeches_003.txt  \r\n",
      "  inflating: data/Corpus of Presential Speeches/obama/obama_speeches_004.txt  \r\n",
      "  inflating: data/Corpus of Presential Speeches/obama/obama_speeches_005.txt  \r\n",
      "  inflating: data/Corpus of Presential Speeches/obama/obama_speeches_006.txt  \r\n",
      "  inflating: data/Corpus of Presential Speeches/obama/obama_speeches_007.txt  \r\n",
      "  inflating: data/Corpus of Presential Speeches/obama/obama_speeches_008.txt  \r\n"
     ]
    },
    {
     "name": "stdout",
     "output_type": "stream",
     "text": [
      "  inflating: data/Corpus of Presential Speeches/obama/obama_speeches_009.txt  \r\n",
      "  inflating: data/Corpus of Presential Speeches/obama/obama_speeches_010.txt  \r\n",
      "  inflating: data/Corpus of Presential Speeches/obama/obama_speeches_011.txt  \r\n",
      "  inflating: data/Corpus of Presential Speeches/obama/obama_speeches_012.txt  \r\n",
      "  inflating: data/Corpus of Presential Speeches/obama/obama_speeches_013.txt  \r\n",
      "  inflating: data/Corpus of Presential Speeches/obama/obama_speeches_014.txt  \r\n",
      "  inflating: data/Corpus of Presential Speeches/obama/obama_speeches_015.txt  \r\n",
      "  inflating: data/Corpus of Presential Speeches/obama/obama_speeches_016.txt  \r\n",
      "  inflating: data/Corpus of Presential Speeches/obama/obama_speeches_017.txt  \r\n",
      "  inflating: data/Corpus of Presential Speeches/obama/obama_speeches_018.txt  \r\n",
      "  inflating: data/Corpus of Presential Speeches/obama/obama_speeches_019.txt  \r\n",
      "  inflating: data/Corpus of Presential Speeches/obama/obama_speeches_020.txt  \r\n",
      "  inflating: data/Corpus of Presential Speeches/obama/obama_speeches_021.txt  \r\n",
      "  inflating: data/Corpus of Presential Speeches/obama/obama_speeches_022.txt  \r\n",
      "  inflating: data/Corpus of Presential Speeches/obama/obama_speeches_023.txt  \r\n",
      "  inflating: data/Corpus of Presential Speeches/obama/obama_speeches_026.txt  \r\n",
      "  inflating: data/Corpus of Presential Speeches/obama/obama_speeches_027.txt  \r\n",
      "  inflating: data/Corpus of Presential Speeches/obama/obama_speeches_028.txt  \r\n",
      "  inflating: data/Corpus of Presential Speeches/obama/obama_speeches_029.txt  \r\n",
      "  inflating: data/Corpus of Presential Speeches/obama/obama_speeches_030.txt  \r\n",
      "  inflating: data/Corpus of Presential Speeches/obama/obama_speeches_031.txt  \r\n",
      "  inflating: data/Corpus of Presential Speeches/obama/obama_speeches_032.txt  \r\n",
      "  inflating: data/Corpus of Presential Speeches/obama/obama_speeches_033.txt  \r\n",
      "  inflating: data/Corpus of Presential Speeches/obama/obama_speeches_034.txt  \r\n",
      "  inflating: data/Corpus of Presential Speeches/obama/obama_speeches_035.txt  \r\n",
      "  inflating: data/Corpus of Presential Speeches/obama/obama_speeches_036.txt  \r\n",
      "  inflating: data/Corpus of Presential Speeches/obama/obama_speeches_037.txt  \r\n",
      "  inflating: data/Corpus of Presential Speeches/obama/obama_speeches_038.txt  \r\n",
      "  inflating: data/Corpus of Presential Speeches/obama/obama_speeches_039.txt  \r\n",
      "  inflating: data/Corpus of Presential Speeches/obama/obama_speeches_040.txt  \r\n",
      "  inflating: data/Corpus of Presential Speeches/obama/obama_speeches_041.txt  \r\n",
      "  inflating: data/Corpus of Presential Speeches/obama/obama_speeches_042.txt  \r\n",
      "  inflating: data/Corpus of Presential Speeches/obama/obama_speeches_043.txt  \r\n",
      "  inflating: data/Corpus of Presential Speeches/obama/obama_speeches_044.txt  \r\n",
      "  inflating: data/Corpus of Presential Speeches/obama/obama_speeches_045.txt  \r\n",
      "  inflating: data/Corpus of Presential Speeches/obama/obama_speeches_046.txt  \r\n",
      "  inflating: data/Corpus of Presential Speeches/obama/obama_speeches_047.txt  \r\n",
      "  inflating: data/Corpus of Presential Speeches/obama/obama_speeches_048.txt  \r\n",
      "  inflating: data/Corpus of Presential Speeches/obama/obama_speeches_049.txt  \r\n",
      "   creating: data/Corpus of Presential Speeches/pierce/\r\n",
      "  inflating: data/Corpus of Presential Speeches/pierce/pierce_speeches_000.txt  \r\n",
      "  inflating: data/Corpus of Presential Speeches/pierce/pierce_speeches_001.txt  \r\n",
      "  inflating: data/Corpus of Presential Speeches/pierce/pierce_speeches_002.txt  \r\n",
      "  inflating: data/Corpus of Presential Speeches/pierce/pierce_speeches_003.txt  \r\n",
      "  inflating: data/Corpus of Presential Speeches/pierce/pierce_speeches_004.txt  \r\n",
      "  inflating: data/Corpus of Presential Speeches/pierce/pierce_speeches_005.txt  \r\n",
      "  inflating: data/Corpus of Presential Speeches/pierce/pierce_speeches_006.txt  \r\n",
      "  inflating: data/Corpus of Presential Speeches/pierce/pierce_speeches_007.txt  \r\n",
      "  inflating: data/Corpus of Presential Speeches/pierce/pierce_speeches_008.txt  \r\n",
      "  inflating: data/Corpus of Presential Speeches/pierce/pierce_speeches_009.txt  \r\n",
      "  inflating: data/Corpus of Presential Speeches/pierce/pierce_speeches_010.txt  \r\n",
      "  inflating: data/Corpus of Presential Speeches/pierce/pierce_speeches_011.txt  \r\n",
      "  inflating: data/Corpus of Presential Speeches/pierce/pierce_speeches_012.txt  \r\n",
      "  inflating: data/Corpus of Presential Speeches/pierce/pierce_speeches_013.txt  \r\n",
      "  inflating: data/Corpus of Presential Speeches/pierce/pierce_speeches_014.txt  \r\n",
      "   creating: data/Corpus of Presential Speeches/polk/\r\n",
      "  inflating: data/Corpus of Presential Speeches/polk/polk_speeches_000.txt  \r\n",
      "  inflating: data/Corpus of Presential Speeches/polk/polk_speeches_001.txt  \r\n",
      "  inflating: data/Corpus of Presential Speeches/polk/polk_speeches_002.txt  \r\n",
      "  inflating: data/Corpus of Presential Speeches/polk/polk_speeches_003.txt  \r\n",
      "  inflating: data/Corpus of Presential Speeches/polk/polk_speeches_004.txt  \r\n",
      "  inflating: data/Corpus of Presential Speeches/polk/polk_speeches_005.txt  \r\n",
      "  inflating: data/Corpus of Presential Speeches/polk/polk_speeches_006.txt  \r\n",
      "  inflating: data/Corpus of Presential Speeches/polk/polk_speeches_007.txt  \r\n",
      "  inflating: data/Corpus of Presential Speeches/polk/polk_speeches_008.txt  \r\n",
      "  inflating: data/Corpus of Presential Speeches/polk/polk_speeches_009.txt  \r\n",
      "  inflating: data/Corpus of Presential Speeches/polk/polk_speeches_010.txt  \r\n",
      "  inflating: data/Corpus of Presential Speeches/polk/polk_speeches_011.txt  \r\n",
      "  inflating: data/Corpus of Presential Speeches/polk/polk_speeches_012.txt  \r\n",
      "  inflating: data/Corpus of Presential Speeches/polk/polk_speeches_013.txt  \r\n",
      "  inflating: data/Corpus of Presential Speeches/polk/polk_speeches_014.txt  \r\n",
      "  inflating: data/Corpus of Presential Speeches/polk/polk_speeches_015.txt  \r\n",
      "  inflating: data/Corpus of Presential Speeches/polk/polk_speeches_016.txt  \r\n",
      "  inflating: data/Corpus of Presential Speeches/polk/polk_speeches_017.txt  \r\n",
      "  inflating: data/Corpus of Presential Speeches/polk/polk_speeches_018.txt  \r\n",
      "  inflating: data/Corpus of Presential Speeches/polk/polk_speeches_019.txt  \r\n",
      "  inflating: data/Corpus of Presential Speeches/polk/polk_speeches_020.txt  \r\n",
      "  inflating: data/Corpus of Presential Speeches/polk/polk_speeches_021.txt  \r\n",
      "  inflating: data/Corpus of Presential Speeches/polk/polk_speeches_022.txt  \r\n",
      "  inflating: data/Corpus of Presential Speeches/polk/polk_speeches_023.txt  \r\n",
      "  inflating: data/Corpus of Presential Speeches/polk/polk_speeches_024.txt  \r\n",
      "   creating: data/Corpus of Presential Speeches/reagan/\r\n",
      "  inflating: data/Corpus of Presential Speeches/reagan/reagan_speeches_000.txt  \r\n",
      "  inflating: data/Corpus of Presential Speeches/reagan/reagan_speeches_001.txt  \r\n",
      "  inflating: data/Corpus of Presential Speeches/reagan/reagan_speeches_002.txt  \r\n",
      "  inflating: data/Corpus of Presential Speeches/reagan/reagan_speeches_003.txt  \r\n",
      "  inflating: data/Corpus of Presential Speeches/reagan/reagan_speeches_004.txt  \r\n",
      "  inflating: data/Corpus of Presential Speeches/reagan/reagan_speeches_005.txt  \r\n",
      "  inflating: data/Corpus of Presential Speeches/reagan/reagan_speeches_006.txt  \r\n",
      "  inflating: data/Corpus of Presential Speeches/reagan/reagan_speeches_007.txt  \r\n",
      "  inflating: data/Corpus of Presential Speeches/reagan/reagan_speeches_008.txt  \r\n",
      "  inflating: data/Corpus of Presential Speeches/reagan/reagan_speeches_009.txt  \r\n",
      "  inflating: data/Corpus of Presential Speeches/reagan/reagan_speeches_010.txt  \r\n",
      "  inflating: data/Corpus of Presential Speeches/reagan/reagan_speeches_011.txt  \r\n",
      "  inflating: data/Corpus of Presential Speeches/reagan/reagan_speeches_012.txt  \r\n",
      "  inflating: data/Corpus of Presential Speeches/reagan/reagan_speeches_013.txt  \r\n",
      "  inflating: data/Corpus of Presential Speeches/reagan/reagan_speeches_014.txt  \r\n",
      "  inflating: data/Corpus of Presential Speeches/reagan/reagan_speeches_015.txt  \r\n",
      "  inflating: data/Corpus of Presential Speeches/reagan/reagan_speeches_016.txt  \r\n",
      "  inflating: data/Corpus of Presential Speeches/reagan/reagan_speeches_017.txt  \r\n",
      "  inflating: data/Corpus of Presential Speeches/reagan/reagan_speeches_018.txt  \r\n",
      "  inflating: data/Corpus of Presential Speeches/reagan/reagan_speeches_019.txt  \r\n",
      "  inflating: data/Corpus of Presential Speeches/reagan/reagan_speeches_020.txt  \r\n",
      "  inflating: data/Corpus of Presential Speeches/reagan/reagan_speeches_021.txt  \r\n",
      "  inflating: data/Corpus of Presential Speeches/reagan/reagan_speeches_022.txt  \r\n",
      "  inflating: data/Corpus of Presential Speeches/reagan/reagan_speeches_023.txt  \r\n",
      "  inflating: data/Corpus of Presential Speeches/reagan/reagan_speeches_024.txt  \r\n",
      "  inflating: data/Corpus of Presential Speeches/reagan/reagan_speeches_025.txt  \r\n",
      "  inflating: data/Corpus of Presential Speeches/reagan/reagan_speeches_026.txt  \r\n",
      "  inflating: data/Corpus of Presential Speeches/reagan/reagan_speeches_027.txt  \r\n",
      "  inflating: data/Corpus of Presential Speeches/reagan/reagan_speeches_028.txt  \r\n",
      "  inflating: data/Corpus of Presential Speeches/reagan/reagan_speeches_029.txt  \r\n",
      "  inflating: data/Corpus of Presential Speeches/reagan/reagan_speeches_030.txt  \r\n",
      "  inflating: data/Corpus of Presential Speeches/reagan/reagan_speeches_031.txt  \r\n",
      "  inflating: data/Corpus of Presential Speeches/reagan/reagan_speeches_032.txt  \r\n",
      "  inflating: data/Corpus of Presential Speeches/reagan/reagan_speeches_033.txt  \r\n",
      "  inflating: data/Corpus of Presential Speeches/reagan/reagan_speeches_034.txt  \r\n",
      "  inflating: data/Corpus of Presential Speeches/reagan/reagan_speeches_035.txt  \r\n",
      "  inflating: data/Corpus of Presential Speeches/reagan/reagan_speeches_036.txt  \r\n",
      "  inflating: data/Corpus of Presential Speeches/reagan/reagan_speeches_037.txt  \r\n",
      "  inflating: data/Corpus of Presential Speeches/reagan/reagan_speeches_038.txt  \r\n",
      "  inflating: data/Corpus of Presential Speeches/reagan/reagan_speeches_039.txt  \r\n",
      "  inflating: data/Corpus of Presential Speeches/reagan/reagan_speeches_040.txt  \r\n",
      "  inflating: data/Corpus of Presential Speeches/reagan/reagan_speeches_041.txt  \r\n",
      "  inflating: data/Corpus of Presential Speeches/reagan/reagan_speeches_042.txt  \r\n",
      "  inflating: data/Corpus of Presential Speeches/reagan/reagan_speeches_043.txt  \r\n",
      "  inflating: data/Corpus of Presential Speeches/reagan/reagan_speeches_044.txt  \r\n",
      "  inflating: data/Corpus of Presential Speeches/reagan/reagan_speeches_045.txt  \r\n",
      "  inflating: data/Corpus of Presential Speeches/reagan/reagan_speeches_046.txt  \r\n",
      "  inflating: data/Corpus of Presential Speeches/reagan/reagan_speeches_047.txt  \r\n",
      "  inflating: data/Corpus of Presential Speeches/reagan/reagan_speeches_048.txt  \r\n",
      "  inflating: data/Corpus of Presential Speeches/reagan/reagan_speeches_049.txt  \r\n",
      "  inflating: data/Corpus of Presential Speeches/reagan/reagan_speeches_050.txt  \r\n",
      "  inflating: data/Corpus of Presential Speeches/reagan/reagan_speeches_051.txt  \r\n",
      "  inflating: data/Corpus of Presential Speeches/reagan/reagan_speeches_052.txt  \r\n",
      "  inflating: data/Corpus of Presential Speeches/reagan/reagan_speeches_053.txt  \r\n",
      "  inflating: data/Corpus of Presential Speeches/reagan/reagan_speeches_054.txt  \r\n",
      "  inflating: data/Corpus of Presential Speeches/reagan/reagan_speeches_055.txt  \r\n",
      "  inflating: data/Corpus of Presential Speeches/reagan/reagan_speeches_056.txt  \r\n",
      "  inflating: data/Corpus of Presential Speeches/reagan/reagan_speeches_057.txt  \r\n",
      "  inflating: data/Corpus of Presential Speeches/reagan/reagan_speeches_058.txt  \r\n",
      "   creating: data/Corpus of Presential Speeches/roosevelt/\r\n",
      "  inflating: data/Corpus of Presential Speeches/roosevelt/roosevelt_speeches_000.txt  \r\n",
      "  inflating: data/Corpus of Presential Speeches/roosevelt/roosevelt_speeches_001.txt  \r\n",
      "  inflating: data/Corpus of Presential Speeches/roosevelt/roosevelt_speeches_002.txt  \r\n",
      "  inflating: data/Corpus of Presential Speeches/roosevelt/roosevelt_speeches_003.txt  \r\n",
      "  inflating: data/Corpus of Presential Speeches/roosevelt/roosevelt_speeches_004.txt  \r\n",
      "  inflating: data/Corpus of Presential Speeches/roosevelt/roosevelt_speeches_005.txt  \r\n",
      "  inflating: data/Corpus of Presential Speeches/roosevelt/roosevelt_speeches_006.txt  \r\n",
      "  inflating: data/Corpus of Presential Speeches/roosevelt/roosevelt_speeches_007.txt  \r\n",
      "  inflating: data/Corpus of Presential Speeches/roosevelt/roosevelt_speeches_008.txt  \r\n",
      "  inflating: data/Corpus of Presential Speeches/roosevelt/roosevelt_speeches_009.txt  \r\n",
      "  inflating: data/Corpus of Presential Speeches/roosevelt/roosevelt_speeches_010.txt  \r\n",
      "  inflating: data/Corpus of Presential Speeches/roosevelt/roosevelt_speeches_011.txt  \r\n",
      "  inflating: data/Corpus of Presential Speeches/roosevelt/roosevelt_speeches_012.txt  \r\n",
      "  inflating: data/Corpus of Presential Speeches/roosevelt/roosevelt_speeches_013.txt  \r\n",
      "  inflating: data/Corpus of Presential Speeches/roosevelt/roosevelt_speeches_014.txt  \r\n",
      "  inflating: data/Corpus of Presential Speeches/roosevelt/roosevelt_speeches_015.txt  \r\n",
      "  inflating: data/Corpus of Presential Speeches/roosevelt/roosevelt_speeches_016.txt  \r\n",
      "  inflating: data/Corpus of Presential Speeches/roosevelt/roosevelt_speeches_017.txt  \r\n",
      "  inflating: data/Corpus of Presential Speeches/roosevelt/roosevelt_speeches_018.txt  \r\n",
      "  inflating: data/Corpus of Presential Speeches/roosevelt/roosevelt_speeches_019.txt  \r\n",
      "  inflating: data/Corpus of Presential Speeches/roosevelt/roosevelt_speeches_020.txt  \r\n",
      "  inflating: data/Corpus of Presential Speeches/roosevelt/roosevelt_speeches_021.txt  \r\n",
      "   creating: data/Corpus of Presential Speeches/taft/\r\n",
      "  inflating: data/Corpus of Presential Speeches/taft/taft_speeches_000.txt  \r\n",
      "  inflating: data/Corpus of Presential Speeches/taft/taft_speeches_001.txt  \r\n",
      "  inflating: data/Corpus of Presential Speeches/taft/taft_speeches_002.txt  \r\n",
      "  inflating: data/Corpus of Presential Speeches/taft/taft_speeches_003.txt  \r\n",
      "  inflating: data/Corpus of Presential Speeches/taft/taft_speeches_004.txt  \r\n",
      "  inflating: data/Corpus of Presential Speeches/taft/taft_speeches_005.txt  \r\n",
      "  inflating: data/Corpus of Presential Speeches/taft/taft_speeches_006.txt  \r\n",
      "  inflating: data/Corpus of Presential Speeches/taft/taft_speeches_007.txt  \r\n",
      "  inflating: data/Corpus of Presential Speeches/taft/taft_speeches_008.txt  \r\n",
      "  inflating: data/Corpus of Presential Speeches/taft/taft_speeches_009.txt  \r\n",
      "  inflating: data/Corpus of Presential Speeches/taft/taft_speeches_010.txt  \r\n",
      "   creating: data/Corpus of Presential Speeches/taylor/\r\n",
      "  inflating: data/Corpus of Presential Speeches/taylor/taylor_speeches_000.txt  \r\n",
      "  inflating: data/Corpus of Presential Speeches/taylor/taylor_speeches_001.txt  \r\n",
      "  inflating: data/Corpus of Presential Speeches/taylor/taylor_speeches_002.txt  \r\n",
      "  inflating: data/Corpus of Presential Speeches/taylor/taylor_speeches_003.txt  \r\n",
      "   creating: data/Corpus of Presential Speeches/truman/\r\n",
      "  inflating: data/Corpus of Presential Speeches/truman/truman_speeches_000.txt  \r\n",
      "  inflating: data/Corpus of Presential Speeches/truman/truman_speeches_001.txt  \r\n",
      "  inflating: data/Corpus of Presential Speeches/truman/truman_speeches_002.txt  \r\n",
      "  inflating: data/Corpus of Presential Speeches/truman/truman_speeches_003.txt  \r\n",
      "  inflating: data/Corpus of Presential Speeches/truman/truman_speeches_004.txt  \r\n",
      "  inflating: data/Corpus of Presential Speeches/truman/truman_speeches_005.txt  \r\n",
      "  inflating: data/Corpus of Presential Speeches/truman/truman_speeches_006.txt  \r\n",
      "  inflating: data/Corpus of Presential Speeches/truman/truman_speeches_007.txt  \r\n",
      "  inflating: data/Corpus of Presential Speeches/truman/truman_speeches_008.txt  \r\n",
      "  inflating: data/Corpus of Presential Speeches/truman/truman_speeches_009.txt  \r\n",
      "  inflating: data/Corpus of Presential Speeches/truman/truman_speeches_010.txt  \r\n",
      "  inflating: data/Corpus of Presential Speeches/truman/truman_speeches_011.txt  \r\n",
      "  inflating: data/Corpus of Presential Speeches/truman/truman_speeches_012.txt  \r\n",
      "  inflating: data/Corpus of Presential Speeches/truman/truman_speeches_013.txt  \r\n",
      "  inflating: data/Corpus of Presential Speeches/truman/truman_speeches_014.txt  \r\n",
      "  inflating: data/Corpus of Presential Speeches/truman/truman_speeches_015.txt  \r\n",
      "  inflating: data/Corpus of Presential Speeches/truman/truman_speeches_016.txt  \r\n",
      "  inflating: data/Corpus of Presential Speeches/truman/truman_speeches_017.txt  \r\n",
      "  inflating: data/Corpus of Presential Speeches/truman/truman_speeches_018.txt  \r\n",
      "   creating: data/Corpus of Presential Speeches/tyler/\r\n",
      "  inflating: data/Corpus of Presential Speeches/tyler/tyler_speeches_000.txt  \r\n",
      "  inflating: data/Corpus of Presential Speeches/tyler/tyler_speeches_001.txt  \r\n",
      "  inflating: data/Corpus of Presential Speeches/tyler/tyler_speeches_002.txt  \r\n",
      "  inflating: data/Corpus of Presential Speeches/tyler/tyler_speeches_003.txt  \r\n",
      "  inflating: data/Corpus of Presential Speeches/tyler/tyler_speeches_004.txt  \r\n",
      "  inflating: data/Corpus of Presential Speeches/tyler/tyler_speeches_005.txt  \r\n",
      "  inflating: data/Corpus of Presential Speeches/tyler/tyler_speeches_006.txt  \r\n",
      "  inflating: data/Corpus of Presential Speeches/tyler/tyler_speeches_007.txt  \r\n",
      "  inflating: data/Corpus of Presential Speeches/tyler/tyler_speeches_008.txt  \r\n",
      "  inflating: data/Corpus of Presential Speeches/tyler/tyler_speeches_009.txt  \r\n",
      "  inflating: data/Corpus of Presential Speeches/tyler/tyler_speeches_010.txt  \r\n"
     ]
    },
    {
     "name": "stdout",
     "output_type": "stream",
     "text": [
      "  inflating: data/Corpus of Presential Speeches/tyler/tyler_speeches_011.txt  \r\n",
      "  inflating: data/Corpus of Presential Speeches/tyler/tyler_speeches_012.txt  \r\n",
      "  inflating: data/Corpus of Presential Speeches/tyler/tyler_speeches_013.txt  \r\n",
      "  inflating: data/Corpus of Presential Speeches/tyler/tyler_speeches_014.txt  \r\n",
      "  inflating: data/Corpus of Presential Speeches/tyler/tyler_speeches_015.txt  \r\n",
      "  inflating: data/Corpus of Presential Speeches/tyler/tyler_speeches_016.txt  \r\n",
      "  inflating: data/Corpus of Presential Speeches/tyler/tyler_speeches_017.txt  \r\n",
      "   creating: data/Corpus of Presential Speeches/vanburen/\r\n",
      "  inflating: data/Corpus of Presential Speeches/vanburen/vanburen_speeches_000.txt  \r\n",
      "  inflating: data/Corpus of Presential Speeches/vanburen/vanburen_speeches_001.txt  \r\n",
      "  inflating: data/Corpus of Presential Speeches/vanburen/vanburen_speeches_002.txt  \r\n",
      "  inflating: data/Corpus of Presential Speeches/vanburen/vanburen_speeches_003.txt  \r\n",
      "  inflating: data/Corpus of Presential Speeches/vanburen/vanburen_speeches_004.txt  \r\n",
      "  inflating: data/Corpus of Presential Speeches/vanburen/vanburen_speeches_005.txt  \r\n",
      "  inflating: data/Corpus of Presential Speeches/vanburen/vanburen_speeches_006.txt  \r\n",
      "  inflating: data/Corpus of Presential Speeches/vanburen/vanburen_speeches_007.txt  \r\n",
      "  inflating: data/Corpus of Presential Speeches/vanburen/vanburen_speeches_008.txt  \r\n",
      "  inflating: data/Corpus of Presential Speeches/vanburen/vanburen_speeches_009.txt  \r\n",
      "   creating: data/Corpus of Presential Speeches/washington/\r\n",
      "  inflating: data/Corpus of Presential Speeches/washington/washington_speeches_000.txt  \r\n",
      "  inflating: data/Corpus of Presential Speeches/washington/washington_speeches_001.txt  \r\n",
      "  inflating: data/Corpus of Presential Speeches/washington/washington_speeches_002.txt  \r\n",
      "  inflating: data/Corpus of Presential Speeches/washington/washington_speeches_003.txt  \r\n",
      "  inflating: data/Corpus of Presential Speeches/washington/washington_speeches_004.txt  \r\n",
      "  inflating: data/Corpus of Presential Speeches/washington/washington_speeches_005.txt  \r\n",
      "  inflating: data/Corpus of Presential Speeches/washington/washington_speeches_006.txt  \r\n",
      "  inflating: data/Corpus of Presential Speeches/washington/washington_speeches_007.txt  \r\n",
      "  inflating: data/Corpus of Presential Speeches/washington/washington_speeches_008.txt  \r\n",
      "  inflating: data/Corpus of Presential Speeches/washington/washington_speeches_009.txt  \r\n",
      "  inflating: data/Corpus of Presential Speeches/washington/washington_speeches_010.txt  \r\n",
      "  inflating: data/Corpus of Presential Speeches/washington/washington_speeches_011.txt  \r\n",
      "  inflating: data/Corpus of Presential Speeches/washington/washington_speeches_012.txt  \r\n",
      "  inflating: data/Corpus of Presential Speeches/washington/washington_speeches_013.txt  \r\n",
      "  inflating: data/Corpus of Presential Speeches/washington/washington_speeches_014.txt  \r\n",
      "  inflating: data/Corpus of Presential Speeches/washington/washington_speeches_015.txt  \r\n",
      "  inflating: data/Corpus of Presential Speeches/washington/washington_speeches_016.txt  \r\n",
      "  inflating: data/Corpus of Presential Speeches/washington/washington_speeches_017.txt  \r\n",
      "  inflating: data/Corpus of Presential Speeches/washington/washington_speeches_018.txt  \r\n",
      "  inflating: data/Corpus of Presential Speeches/washington/washington_speeches_019.txt  \r\n",
      "  inflating: data/Corpus of Presential Speeches/washington/washington_speeches_020.txt  \r\n",
      "   creating: data/Corpus of Presential Speeches/wilson/\r\n",
      "  inflating: data/Corpus of Presential Speeches/wilson/wilson_speeches_000.txt  \r\n",
      "  inflating: data/Corpus of Presential Speeches/wilson/wilson_speeches_001.txt  \r\n",
      "  inflating: data/Corpus of Presential Speeches/wilson/wilson_speeches_002.txt  \r\n",
      "  inflating: data/Corpus of Presential Speeches/wilson/wilson_speeches_003.txt  \r\n",
      "  inflating: data/Corpus of Presential Speeches/wilson/wilson_speeches_004.txt  \r\n",
      "  inflating: data/Corpus of Presential Speeches/wilson/wilson_speeches_005.txt  \r\n",
      "  inflating: data/Corpus of Presential Speeches/wilson/wilson_speeches_006.txt  \r\n",
      "  inflating: data/Corpus of Presential Speeches/wilson/wilson_speeches_007.txt  \r\n",
      "  inflating: data/Corpus of Presential Speeches/wilson/wilson_speeches_008.txt  \r\n",
      "  inflating: data/Corpus of Presential Speeches/wilson/wilson_speeches_009.txt  \r\n",
      "  inflating: data/Corpus of Presential Speeches/wilson/wilson_speeches_010.txt  \r\n",
      "  inflating: data/Corpus of Presential Speeches/wilson/wilson_speeches_011.txt  \r\n",
      "  inflating: data/Corpus of Presential Speeches/wilson/wilson_speeches_012.txt  \r\n",
      "  inflating: data/Corpus of Presential Speeches/wilson/wilson_speeches_013.txt  \r\n",
      "  inflating: data/Corpus of Presential Speeches/wilson/wilson_speeches_014.txt  \r\n",
      "  inflating: data/Corpus of Presential Speeches/wilson/wilson_speeches_015.txt  \r\n",
      "  inflating: data/Corpus of Presential Speeches/wilson/wilson_speeches_016.txt  \r\n",
      "  inflating: data/Corpus of Presential Speeches/wilson/wilson_speeches_017.txt  \r\n",
      "  inflating: data/Corpus of Presential Speeches/wilson/wilson_speeches_018.txt  \r\n",
      "  inflating: data/Corpus of Presential Speeches/wilson/wilson_speeches_019.txt  \r\n",
      "  inflating: data/Corpus of Presential Speeches/wilson/wilson_speeches_020.txt  \r\n",
      "  inflating: data/Corpus of Presential Speeches/wilson/wilson_speeches_021.txt  \r\n",
      "  inflating: data/Corpus of Presential Speeches/wilson/wilson_speeches_022.txt  \r\n",
      "  inflating: data/Corpus of Presential Speeches/wilson/wilson_speeches_023.txt  \r\n",
      "  inflating: data/Corpus of Presential Speeches/wilson/wilson_speeches_024.txt  \r\n",
      "  inflating: data/Corpus of Presential Speeches/wilson/wilson_speeches_025.txt  \r\n",
      "  inflating: data/Corpus of Presential Speeches/wilson/wilson_speeches_026.txt  \r\n",
      "  inflating: data/Corpus of Presential Speeches/wilson/wilson_speeches_027.txt  \r\n",
      "  inflating: data/Corpus of Presential Speeches/wilson/wilson_speeches_028.txt  \r\n",
      "  inflating: data/Corpus of Presential Speeches/wilson/wilson_speeches_029.txt  \r\n",
      "  inflating: data/Corpus of Presential Speeches/wilson/wilson_speeches_030.txt  \r\n",
      "  inflating: data/Corpus of Presential Speeches/wilson/wilson_speeches_031.txt  \r\n"
     ]
    }
   ],
   "source": [
    "# create data dir if doesn't exist\n",
    "!mkdir -p data\n",
    "\n",
    "# Download and unzip corpus of speeches\n",
    "!wget 'http://www.thegrammarlab.com/?wpdmpro=corpus-of-presidential-speeches&wpdmdl=595' -O \"data/corpus.zip\"\n",
    "!unzip data/corpus.zip -d data/\n",
    "\n",
    "# Data from:\n",
    "#   Brown, D. W. (2016) Corpus of Presidential Speeches. Retrieved from http://www.thegrammarlab.com"
   ]
  },
  {
   "cell_type": "code",
   "execution_count": 4,
   "metadata": {},
   "outputs": [],
   "source": [
    "# Data taken from:\n",
    "#   Brown, D. W. (2016) Corpus of Presidential Speeches. Retrieved from http://www.thegrammarlab.com\n",
    "get_data('http://www.thegrammarlab.com/?wpdmpro=corpus-of-presidential-speeches&wpdmdl=595', 'data')"
   ]
  },
  {
   "cell_type": "code",
   "execution_count": 5,
   "metadata": {},
   "outputs": [],
   "source": [
    "speeches = ' '.join(preprocess_speech(file) for file in glob('data/Corpus of Presential Speeches/obama/*'))"
   ]
  },
  {
   "cell_type": "code",
   "execution_count": 6,
   "metadata": {},
   "outputs": [
    {
     "data": {
      "text/plain": [
       "1027441"
      ]
     },
     "execution_count": 6,
     "metadata": {},
     "output_type": "execute_result"
    }
   ],
   "source": [
    "len(speeches)"
   ]
  },
  {
   "cell_type": "markdown",
   "metadata": {},
   "source": [
    "Just over 1 mln chars! This should be perfect for our purposes!\n",
    "\n",
    "Let's start with creating a vocabulary of all the chars that are used."
   ]
  },
  {
   "cell_type": "code",
   "execution_count": 7,
   "metadata": {},
   "outputs": [
    {
     "name": "stdout",
     "output_type": "stream",
     "text": [
      "total chars: 74\n"
     ]
    }
   ],
   "source": [
    "chars = sorted(list(set(speeches)))\n",
    "vocab_size = len(chars)\n",
    "print('total chars:', vocab_size)"
   ]
  },
  {
   "cell_type": "code",
   "execution_count": 8,
   "metadata": {},
   "outputs": [
    {
     "data": {
      "text/plain": [
       "' !\"$\\',-./0123456789:;>?ABCDEFGHIJKLMNOPQRSTUVWYZabcdefghijklmnopqrstuvwxyz'"
      ]
     },
     "execution_count": 8,
     "metadata": {},
     "output_type": "execute_result"
    }
   ],
   "source": [
    "''.join(chars)"
   ]
  },
  {
   "cell_type": "markdown",
   "metadata": {},
   "source": [
    "We want to be able to easily go from char to its index in the vocabulary and back. Let's use dictionaries for that."
   ]
  },
  {
   "cell_type": "code",
   "execution_count": 9,
   "metadata": {},
   "outputs": [],
   "source": [
    "char2idx = {c: idx for idx, c in enumerate(chars)}\n",
    "idx2char = {idx: c for idx, c in enumerate(chars)}"
   ]
  },
  {
   "cell_type": "markdown",
   "metadata": {},
   "source": [
    "Now we need to convert the speeches to representation as list of corresponding indexes."
   ]
  },
  {
   "cell_type": "code",
   "execution_count": 10,
   "metadata": {},
   "outputs": [],
   "source": [
    "idxs = [char2idx[char] for char in speeches]"
   ]
  },
  {
   "cell_type": "code",
   "execution_count": 11,
   "metadata": {},
   "outputs": [
    {
     "data": {
      "text/plain": [
       "[35, 65, 7, 0, 41, 63, 52, 48, 58, 52, 65]"
      ]
     },
     "execution_count": 11,
     "metadata": {},
     "output_type": "execute_result"
    }
   ],
   "source": [
    "idxs[:11]"
   ]
  },
  {
   "cell_type": "code",
   "execution_count": 12,
   "metadata": {},
   "outputs": [
    {
     "data": {
      "text/plain": [
       "'Mr. Speaker'"
      ]
     },
     "execution_count": 12,
     "metadata": {},
     "output_type": "execute_result"
    }
   ],
   "source": [
    "''.join(idx2char[idx] for idx in idxs[:11])"
   ]
  },
  {
   "cell_type": "markdown",
   "metadata": {},
   "source": [
    "## First model - simple FC NN"
   ]
  },
  {
   "cell_type": "markdown",
   "metadata": {},
   "source": [
    "Our first model will be very simple - we will use three chars to predict the fourth char. In order to do so, we embed each char using a rank 1 tensor of length 42. We concatenate the embeddings together and we slap a fully connected layer on top.\n",
    "\n",
    "It is a simple architecture that I wanted to try before we move onto RNNs!\n",
    "\n",
    "<img src='images/basic_nn.png'>"
   ]
  },
  {
   "cell_type": "code",
   "execution_count": 13,
   "metadata": {},
   "outputs": [],
   "source": [
    "n_fac = 42 # number of latent factors, embedding length\n",
    "n_hidden = 256"
   ]
  },
  {
   "cell_type": "code",
   "execution_count": 14,
   "metadata": {},
   "outputs": [],
   "source": [
    "class FCModel(nn.Module):\n",
    "    def __init__(self, vocab_size, n_fac, n_hidden):\n",
    "        super().__init__()\n",
    "        self.n_fac = n_fac\n",
    "        self.e = nn.Embedding(vocab_size, n_fac)\n",
    "\n",
    "        # fully connected layer\n",
    "        self.l_in = nn.Linear(n_fac * 3, n_hidden)\n",
    "\n",
    "        self.l_out = nn.Linear(n_hidden, vocab_size)\n",
    "        \n",
    "    def forward(self, c1, c2, c3):\n",
    "        inp = torch.cat([self.e(c1), self.e(c2), self.e(c3)], dim=1)\n",
    "        h = F.relu(self.l_in(inp))\n",
    "        \n",
    "        return F.log_softmax(self.l_out(h))"
   ]
  },
  {
   "cell_type": "markdown",
   "metadata": {},
   "source": [
    "### Create inputs"
   ]
  },
  {
   "cell_type": "code",
   "execution_count": 15,
   "metadata": {},
   "outputs": [],
   "source": [
    "cs=3\n",
    "c1_dat = idxs[0:-cs]\n",
    "c2_dat = idxs[1:-cs+1]\n",
    "c3_dat = idxs[2:-cs+2]\n",
    "c4_dat = idxs[3:]"
   ]
  },
  {
   "cell_type": "markdown",
   "metadata": {},
   "source": [
    "Visually inspecting whether the above worked!"
   ]
  },
  {
   "cell_type": "code",
   "execution_count": 16,
   "metadata": {},
   "outputs": [
    {
     "name": "stdout",
     "output_type": "stream",
     "text": [
      "['a', '.', ' ', 'T', 'h', 'a', 'n', 'k', ' ', 'y']\n",
      "['.', ' ', 'T', 'h', 'a', 'n', 'k', ' ', 'y', 'o']\n",
      "[' ', 'T', 'h', 'a', 'n', 'k', ' ', 'y', 'o', 'u']\n",
      "['T', 'h', 'a', 'n', 'k', ' ', 'y', 'o', 'u', '.']\n"
     ]
    }
   ],
   "source": [
    "print(list(idx2char[idx] for idx in c1_dat[-10:]))\n",
    "print(list(idx2char[idx] for idx in c2_dat[-10:]))\n",
    "print(list(idx2char[idx] for idx in c3_dat[-10:]))\n",
    "print(list(idx2char[idx] for idx in c4_dat[-10:]))"
   ]
  },
  {
   "cell_type": "code",
   "execution_count": 17,
   "metadata": {},
   "outputs": [],
   "source": [
    "x1 = np.stack(c1_dat)\n",
    "x2 = np.stack(c2_dat)\n",
    "x3 = np.stack(c3_dat)\n",
    "y = np.stack(c4_dat)"
   ]
  },
  {
   "cell_type": "code",
   "execution_count": 18,
   "metadata": {},
   "outputs": [
    {
     "data": {
      "text/plain": [
       "((1027438,), (1027438,), (1027438,), (1027438,))"
      ]
     },
     "execution_count": 18,
     "metadata": {},
     "output_type": "execute_result"
    }
   ],
   "source": [
    "x1.shape, x2.shape, x3.shape, y.shape"
   ]
  },
  {
   "cell_type": "markdown",
   "metadata": {},
   "source": [
    "Let's create our dataset from tese four arrays."
   ]
  },
  {
   "cell_type": "code",
   "execution_count": 19,
   "metadata": {},
   "outputs": [],
   "source": [
    "# This one line allows me to run my models on a subset of data while I work on this notebook\n",
    "# md = ColumnarModelData.from_arrays('.', [-20_000], np.stack([x1,x2,x3], axis=1)[:200_000, :], y[:200_000], bs=2**9)\n",
    "\n",
    "md = ColumnarModelData.from_arrays('.', [-100_000], np.stack([x1,x2,x3], axis=1), y, bs=2**9)"
   ]
  },
  {
   "cell_type": "code",
   "execution_count": 20,
   "metadata": {},
   "outputs": [],
   "source": [
    "m = FCModel(vocab_size, n_fac, n_hidden).cuda()"
   ]
  },
  {
   "cell_type": "code",
   "execution_count": 21,
   "metadata": {},
   "outputs": [
    {
     "data": {
      "application/vnd.jupyter.widget-view+json": {
       "model_id": "48ebd50269fa4a539a4f292b6edf3639",
       "version_major": 2,
       "version_minor": 0
      },
      "text/html": [
       "<p>Failed to display Jupyter Widget of type <code>HBox</code>.</p>\n",
       "<p>\n",
       "  If you're reading this message in the Jupyter Notebook or JupyterLab Notebook, it may mean\n",
       "  that the widgets JavaScript is still loading. If this message persists, it\n",
       "  likely means that the widgets JavaScript library is either not installed or\n",
       "  not enabled. See the <a href=\"https://ipywidgets.readthedocs.io/en/stable/user_install.html\">Jupyter\n",
       "  Widgets Documentation</a> for setup instructions.\n",
       "</p>\n",
       "<p>\n",
       "  If you're reading this message in another frontend (for example, a static\n",
       "  rendering on GitHub or <a href=\"https://nbviewer.jupyter.org/\">NBViewer</a>),\n",
       "  it may mean that your frontend doesn't currently support widgets.\n",
       "</p>\n"
      ],
      "text/plain": [
       "HBox(children=(IntProgress(value=0, description='Epoch', max=1), HTML(value='')))"
      ]
     },
     "metadata": {},
     "output_type": "display_data"
    },
    {
     "name": "stdout",
     "output_type": "stream",
     "text": [
      "[ 0.       1.61588  0.55123]                                   \n",
      "\n"
     ]
    },
    {
     "data": {
      "application/vnd.jupyter.widget-view+json": {
       "model_id": "b0efa22f190f44ae9e2e60445127ce6b",
       "version_major": 2,
       "version_minor": 0
      },
      "text/html": [
       "<p>Failed to display Jupyter Widget of type <code>HBox</code>.</p>\n",
       "<p>\n",
       "  If you're reading this message in the Jupyter Notebook or JupyterLab Notebook, it may mean\n",
       "  that the widgets JavaScript is still loading. If this message persists, it\n",
       "  likely means that the widgets JavaScript library is either not installed or\n",
       "  not enabled. See the <a href=\"https://ipywidgets.readthedocs.io/en/stable/user_install.html\">Jupyter\n",
       "  Widgets Documentation</a> for setup instructions.\n",
       "</p>\n",
       "<p>\n",
       "  If you're reading this message in another frontend (for example, a static\n",
       "  rendering on GitHub or <a href=\"https://nbviewer.jupyter.org/\">NBViewer</a>),\n",
       "  it may mean that your frontend doesn't currently support widgets.\n",
       "</p>\n"
      ],
      "text/plain": [
       "HBox(children=(IntProgress(value=0, description='Epoch', max=1), HTML(value='')))"
      ]
     },
     "metadata": {},
     "output_type": "display_data"
    },
    {
     "name": "stdout",
     "output_type": "stream",
     "text": [
      "[ 0.       1.49669  0.67421]                                   \n",
      "\n"
     ]
    }
   ],
   "source": [
    "opt = optim.Adam(m.parameters(), 1e-2)\n",
    "\n",
    "fit(m, md, 1, opt, F.nll_loss)\n",
    "set_lrs(opt, 1e-3)\n",
    "fit(m, md, 1, opt, F.nll_loss)"
   ]
  },
  {
   "cell_type": "markdown",
   "metadata": {},
   "source": [
    "Let's see if our model learned anything useful!"
   ]
  },
  {
   "cell_type": "code",
   "execution_count": 22,
   "metadata": {},
   "outputs": [],
   "source": [
    "def get_next(inp):\n",
    "    idxs = T(np.array([char2idx[c] for c in inp]))\n",
    "    p = m(*VV(idxs))\n",
    "    i = np.argmax(to_np(p))\n",
    "    return idx2char[i]"
   ]
  },
  {
   "cell_type": "code",
   "execution_count": 23,
   "metadata": {},
   "outputs": [
    {
     "data": {
      "text/plain": [
       "'s'"
      ]
     },
     "execution_count": 23,
     "metadata": {},
     "output_type": "execute_result"
    }
   ],
   "source": [
    "get_next('pre')"
   ]
  },
  {
   "cell_type": "code",
   "execution_count": 24,
   "metadata": {},
   "outputs": [
    {
     "data": {
      "text/plain": [
       "'d'"
      ]
     },
     "execution_count": 24,
     "metadata": {},
     "output_type": "execute_result"
    }
   ],
   "source": [
    "get_next(' an')"
   ]
  },
  {
   "cell_type": "markdown",
   "metadata": {},
   "source": [
    "Let's try to produce something a bit longer."
   ]
  },
  {
   "cell_type": "code",
   "execution_count": 25,
   "metadata": {},
   "outputs": [
    {
     "name": "stdout",
     "output_type": "stream",
     "text": [
      "Good the stand the stand the stand the stand the stand the stand the stand the stand the stand the stand the stand the stand the stand the stand the stand the stand the stand the stand the stand the stan\n"
     ]
    }
   ],
   "source": [
    "text = 'Goo'\n",
    "for i in range(200): text += get_next(text[-3:])\n",
    "\n",
    "print(text)"
   ]
  },
  {
   "cell_type": "markdown",
   "metadata": {},
   "source": [
    "That was bound to happen with such a simple model. Let's see if we can introduce some randomness here."
   ]
  },
  {
   "cell_type": "code",
   "execution_count": 26,
   "metadata": {},
   "outputs": [
    {
     "name": "stdout",
     "output_type": "stream",
     "text": [
      "Gook, and paging press, we security we they pol can depenstep a dism. Throughs, well, Press cause ofterms of has we respofits of help that we hard condents to here in pland to vote through local this a d\n"
     ]
    }
   ],
   "source": [
    "def get_next_stochastic(inp):\n",
    "    idxs = T(np.array([char2idx[c] for c in inp]))\n",
    "    p = m(*VV(idxs))\n",
    "    i = np.random.choice(vocab_size, p=np.exp(p.data.cpu().numpy()[0]))\n",
    "    return idx2char[i]\n",
    "\n",
    "text = 'Goo'\n",
    "for i in range(200): text += get_next_stochastic(text[-3:])\n",
    "\n",
    "print(text)"
   ]
  },
  {
   "cell_type": "markdown",
   "metadata": {},
   "source": [
    "Well, this does sound like a president, but not the one whose manner of speech we are trying to emulate here. Let's try a slightly more complex architecture."
   ]
  },
  {
   "cell_type": "markdown",
   "metadata": {},
   "source": [
    "## Char3Model"
   ]
  },
  {
   "cell_type": "markdown",
   "metadata": {},
   "source": [
    "Technically, I am not sure if this is an RNN. It looks to me like an unrolled RNN but maybe it is missing something that it needs to be called an unrolled RNN. Either way, this is just semantics and we are very close to having a 'vanilla' RNN."
   ]
  },
  {
   "cell_type": "markdown",
   "metadata": {},
   "source": [
    "<img src='images/3char.png'>"
   ]
  },
  {
   "cell_type": "code",
   "execution_count": 27,
   "metadata": {},
   "outputs": [],
   "source": [
    "class Char3Model(nn.Module):\n",
    "    def __init__(self, vocab_size, n_fac):\n",
    "        super().__init__()\n",
    "        self.e = nn.Embedding(vocab_size, n_fac)\n",
    "\n",
    "        # The 'green arrow' from our diagram - the layer operation from input to hidden\n",
    "        # We are now feeding in chars one at a time! The input dimension of the first linear layer\n",
    "        # is (1, 42) vs the (1, 3 * 42) we used earlier.\n",
    "        self.l_in = nn.Linear(n_fac, n_hidden)\n",
    "\n",
    "        # The 'orange arrow' from our diagram - the layer operation from hidden to hidden\n",
    "        self.l_hidden = nn.Linear(n_hidden, n_hidden)\n",
    "        \n",
    "        # The 'blue arrow' from our diagram - the layer operation from hidden to output\n",
    "        self.l_out = nn.Linear(n_hidden, vocab_size)\n",
    "        \n",
    "    def forward(self, c1, c2, c3):\n",
    "        in1 = F.relu(self.l_in(self.e(c1)))\n",
    "        in2 = F.relu(self.l_in(self.e(c2)))\n",
    "        in3 = F.relu(self.l_in(self.e(c3)))\n",
    "        \n",
    "        h = V(torch.zeros(in1.size()).cuda()) # initiating our hidden state to all zeros\n",
    "        h = F.tanh(self.l_hidden(h+in1))\n",
    "        h = F.tanh(self.l_hidden(h+in2))\n",
    "        h = F.tanh(self.l_hidden(h+in3))\n",
    "        \n",
    "        return F.log_softmax(self.l_out(h))"
   ]
  },
  {
   "cell_type": "code",
   "execution_count": 28,
   "metadata": {},
   "outputs": [],
   "source": [
    "m = Char3Model(vocab_size, n_fac).cuda()"
   ]
  },
  {
   "cell_type": "code",
   "execution_count": 29,
   "metadata": {},
   "outputs": [
    {
     "data": {
      "application/vnd.jupyter.widget-view+json": {
       "model_id": "37984a4a50904316b04aa5cd4cec6915",
       "version_major": 2,
       "version_minor": 0
      },
      "text/html": [
       "<p>Failed to display Jupyter Widget of type <code>HBox</code>.</p>\n",
       "<p>\n",
       "  If you're reading this message in the Jupyter Notebook or JupyterLab Notebook, it may mean\n",
       "  that the widgets JavaScript is still loading. If this message persists, it\n",
       "  likely means that the widgets JavaScript library is either not installed or\n",
       "  not enabled. See the <a href=\"https://ipywidgets.readthedocs.io/en/stable/user_install.html\">Jupyter\n",
       "  Widgets Documentation</a> for setup instructions.\n",
       "</p>\n",
       "<p>\n",
       "  If you're reading this message in another frontend (for example, a static\n",
       "  rendering on GitHub or <a href=\"https://nbviewer.jupyter.org/\">NBViewer</a>),\n",
       "  it may mean that your frontend doesn't currently support widgets.\n",
       "</p>\n"
      ],
      "text/plain": [
       "HBox(children=(IntProgress(value=0, description='Epoch', max=1), HTML(value='')))"
      ]
     },
     "metadata": {},
     "output_type": "display_data"
    },
    {
     "name": "stdout",
     "output_type": "stream",
     "text": [
      "[ 0.       1.83884  1.45692]                                   \n",
      "\n"
     ]
    },
    {
     "data": {
      "application/vnd.jupyter.widget-view+json": {
       "model_id": "06340e660e81448e85c936c6182b0fc3",
       "version_major": 2,
       "version_minor": 0
      },
      "text/html": [
       "<p>Failed to display Jupyter Widget of type <code>HBox</code>.</p>\n",
       "<p>\n",
       "  If you're reading this message in the Jupyter Notebook or JupyterLab Notebook, it may mean\n",
       "  that the widgets JavaScript is still loading. If this message persists, it\n",
       "  likely means that the widgets JavaScript library is either not installed or\n",
       "  not enabled. See the <a href=\"https://ipywidgets.readthedocs.io/en/stable/user_install.html\">Jupyter\n",
       "  Widgets Documentation</a> for setup instructions.\n",
       "</p>\n",
       "<p>\n",
       "  If you're reading this message in another frontend (for example, a static\n",
       "  rendering on GitHub or <a href=\"https://nbviewer.jupyter.org/\">NBViewer</a>),\n",
       "  it may mean that your frontend doesn't currently support widgets.\n",
       "</p>\n"
      ],
      "text/plain": [
       "HBox(children=(IntProgress(value=0, description='Epoch', max=1), HTML(value='')))"
      ]
     },
     "metadata": {},
     "output_type": "display_data"
    },
    {
     "name": "stdout",
     "output_type": "stream",
     "text": [
      "[ 0.       1.59302  1.98777]                                   \n",
      "\n"
     ]
    }
   ],
   "source": [
    "opt = optim.Adam(m.parameters(), 1e-2)\n",
    "\n",
    "fit(m, md, 1, opt, F.nll_loss)\n",
    "set_lrs(opt, 1e-3)\n",
    "fit(m, md, 1, opt, F.nll_loss)"
   ]
  },
  {
   "cell_type": "markdown",
   "metadata": {},
   "source": [
    "Let's run our two tests to see if it learned anything!"
   ]
  },
  {
   "cell_type": "code",
   "execution_count": 30,
   "metadata": {},
   "outputs": [
    {
     "name": "stdout",
     "output_type": "stream",
     "text": [
      "Good the the the the the the the the the the the the the the the the the the the the the the the the the the the the the the the the the the the the the the the the the the the the the the the the the th\n"
     ]
    }
   ],
   "source": [
    "text = 'Goo'\n",
    "for i in range(200): text += get_next(text[-3:])\n",
    "\n",
    "print(text)"
   ]
  },
  {
   "cell_type": "code",
   "execution_count": 31,
   "metadata": {},
   "outputs": [
    {
     "name": "stdout",
     "output_type": "stream",
     "text": [
      "Googgestice's costs to brountrong-textried othe put cut be acativernessary or instor we doese to recop to may or not we in the from As we the bbest a whet from that to rege crealth 30 - look a is flority\n"
     ]
    }
   ],
   "source": [
    "text = 'Goo'\n",
    "for i in range(200): text += get_next_stochastic(text[-3:])\n",
    "\n",
    "print(text)"
   ]
  },
  {
   "cell_type": "markdown",
   "metadata": {},
   "source": [
    "Time to change our Char3Model into a 'real' RNN!"
   ]
  },
  {
   "cell_type": "markdown",
   "metadata": {},
   "source": [
    "## CharLoopModel"
   ]
  },
  {
   "cell_type": "markdown",
   "metadata": {},
   "source": [
    "<img src='images/simple_RNN.png'>"
   ]
  },
  {
   "cell_type": "code",
   "execution_count": 32,
   "metadata": {},
   "outputs": [],
   "source": [
    "cs=8 # our model will generate predictions based on it seeing this many chars \n",
    "\n",
    "c_in_dat = [[idxs[i+j] for i in range(cs)] for j in range(len(idxs)-cs-1)]\n",
    "c_out_dat = [idxs[j+cs] for j in range(len(idxs)-cs-1)]\n",
    "\n",
    "xs = np.stack(c_in_dat, axis=0)\n",
    "y = np.stack(c_out_dat)"
   ]
  },
  {
   "cell_type": "code",
   "execution_count": 33,
   "metadata": {},
   "outputs": [
    {
     "data": {
      "text/plain": [
       "(1027432, 8)"
      ]
     },
     "execution_count": 33,
     "metadata": {},
     "output_type": "execute_result"
    }
   ],
   "source": [
    "xs.shape"
   ]
  },
  {
   "cell_type": "code",
   "execution_count": 34,
   "metadata": {},
   "outputs": [
    {
     "data": {
      "text/plain": [
       "[[35, 65, 7, 0, 41, 63, 52, 48],\n",
       " [65, 7, 0, 41, 63, 52, 48, 58],\n",
       " [7, 0, 41, 63, 52, 48, 58, 52],\n",
       " [0, 41, 63, 52, 48, 58, 52, 65],\n",
       " [41, 63, 52, 48, 58, 52, 65, 5],\n",
       " [63, 52, 48, 58, 52, 65, 5, 0],\n",
       " [52, 48, 58, 52, 65, 5, 0, 35],\n",
       " [48, 58, 52, 65, 5, 0, 35, 65]]"
      ]
     },
     "execution_count": 34,
     "metadata": {},
     "output_type": "execute_result"
    }
   ],
   "source": [
    "[[idx for idx in row] for row in xs[:8]]"
   ]
  },
  {
   "cell_type": "code",
   "execution_count": 35,
   "metadata": {},
   "outputs": [
    {
     "data": {
      "text/plain": [
       "[['M', 'r', '.', ' ', 'S', 'p', 'e', 'a'],\n",
       " ['r', '.', ' ', 'S', 'p', 'e', 'a', 'k'],\n",
       " ['.', ' ', 'S', 'p', 'e', 'a', 'k', 'e'],\n",
       " [' ', 'S', 'p', 'e', 'a', 'k', 'e', 'r'],\n",
       " ['S', 'p', 'e', 'a', 'k', 'e', 'r', ','],\n",
       " ['p', 'e', 'a', 'k', 'e', 'r', ',', ' '],\n",
       " ['e', 'a', 'k', 'e', 'r', ',', ' ', 'M'],\n",
       " ['a', 'k', 'e', 'r', ',', ' ', 'M', 'r']]"
      ]
     },
     "execution_count": 35,
     "metadata": {},
     "output_type": "execute_result"
    }
   ],
   "source": [
    "[[idx2char[idx] for idx in row] for row in xs[:cs]]"
   ]
  },
  {
   "cell_type": "code",
   "execution_count": 36,
   "metadata": {},
   "outputs": [],
   "source": [
    "class CharLoopModel(nn.Module):\n",
    "    # This is an RNN!\n",
    "    def __init__(self, vocab_size, n_fac):\n",
    "        super().__init__()\n",
    "        self.e = nn.Embedding(vocab_size, n_fac)\n",
    "        self.l_in = nn.Linear(n_fac, n_hidden)\n",
    "        self.l_hidden = nn.Linear(n_hidden, n_hidden)\n",
    "        self.l_out = nn.Linear(n_hidden, vocab_size)\n",
    "        \n",
    "    def forward(self, *cs):\n",
    "        bs = cs[0].size(0)\n",
    "        h = V(torch.zeros(bs, n_hidden).cuda())\n",
    "        for c in cs:\n",
    "            inp = F.relu(self.l_in(self.e(c)))\n",
    "            h = F.tanh(self.l_hidden(h+inp))\n",
    "        \n",
    "        return F.log_softmax(self.l_out(h))"
   ]
  },
  {
   "cell_type": "code",
   "execution_count": 37,
   "metadata": {},
   "outputs": [],
   "source": [
    "# This one line allows me to run my models on a subset of data while I work on this notebook\n",
    "# md = ColumnarModelData.from_arrays('.', [-20_000], xs[:200_000, :], y[:200_000], bs=2**9)\n",
    "\n",
    "md = ColumnarModelData.from_arrays('.', [-100_000], xs, y, bs=2**9)"
   ]
  },
  {
   "cell_type": "code",
   "execution_count": 38,
   "metadata": {},
   "outputs": [],
   "source": [
    "m = CharLoopModel(vocab_size, n_fac).cuda()"
   ]
  },
  {
   "cell_type": "code",
   "execution_count": 39,
   "metadata": {},
   "outputs": [
    {
     "data": {
      "application/vnd.jupyter.widget-view+json": {
       "model_id": "1480186b327c413c8cf3283726827a92",
       "version_major": 2,
       "version_minor": 0
      },
      "text/html": [
       "<p>Failed to display Jupyter Widget of type <code>HBox</code>.</p>\n",
       "<p>\n",
       "  If you're reading this message in the Jupyter Notebook or JupyterLab Notebook, it may mean\n",
       "  that the widgets JavaScript is still loading. If this message persists, it\n",
       "  likely means that the widgets JavaScript library is either not installed or\n",
       "  not enabled. See the <a href=\"https://ipywidgets.readthedocs.io/en/stable/user_install.html\">Jupyter\n",
       "  Widgets Documentation</a> for setup instructions.\n",
       "</p>\n",
       "<p>\n",
       "  If you're reading this message in another frontend (for example, a static\n",
       "  rendering on GitHub or <a href=\"https://nbviewer.jupyter.org/\">NBViewer</a>),\n",
       "  it may mean that your frontend doesn't currently support widgets.\n",
       "</p>\n"
      ],
      "text/plain": [
       "HBox(children=(IntProgress(value=0, description='Epoch', max=1), HTML(value='')))"
      ]
     },
     "metadata": {},
     "output_type": "display_data"
    },
    {
     "name": "stdout",
     "output_type": "stream",
     "text": [
      "[ 0.       1.87007  2.43004]                                  \n",
      "\n"
     ]
    },
    {
     "data": {
      "application/vnd.jupyter.widget-view+json": {
       "model_id": "a38591f6b0e347a19ebe2656552016de",
       "version_major": 2,
       "version_minor": 0
      },
      "text/html": [
       "<p>Failed to display Jupyter Widget of type <code>HBox</code>.</p>\n",
       "<p>\n",
       "  If you're reading this message in the Jupyter Notebook or JupyterLab Notebook, it may mean\n",
       "  that the widgets JavaScript is still loading. If this message persists, it\n",
       "  likely means that the widgets JavaScript library is either not installed or\n",
       "  not enabled. See the <a href=\"https://ipywidgets.readthedocs.io/en/stable/user_install.html\">Jupyter\n",
       "  Widgets Documentation</a> for setup instructions.\n",
       "</p>\n",
       "<p>\n",
       "  If you're reading this message in another frontend (for example, a static\n",
       "  rendering on GitHub or <a href=\"https://nbviewer.jupyter.org/\">NBViewer</a>),\n",
       "  it may mean that your frontend doesn't currently support widgets.\n",
       "</p>\n"
      ],
      "text/plain": [
       "HBox(children=(IntProgress(value=0, description='Epoch', max=1), HTML(value='')))"
      ]
     },
     "metadata": {},
     "output_type": "display_data"
    },
    {
     "name": "stdout",
     "output_type": "stream",
     "text": [
      "[ 0.       1.56679  3.12984]                                  \n",
      "\n"
     ]
    }
   ],
   "source": [
    "opt = optim.Adam(m.parameters(), 1e-2)\n",
    "\n",
    "fit(m, md, 1, opt, F.nll_loss)\n",
    "set_lrs(opt, 1e-3)\n",
    "fit(m, md, 1, opt, F.nll_loss)"
   ]
  },
  {
   "cell_type": "code",
   "execution_count": 40,
   "metadata": {},
   "outputs": [
    {
     "data": {
      "text/plain": [
       "'r'"
      ]
     },
     "execution_count": 40,
     "metadata": {},
     "output_type": "execute_result"
    }
   ],
   "source": [
    "get_next('Good mo')"
   ]
  },
  {
   "cell_type": "code",
   "execution_count": 41,
   "metadata": {},
   "outputs": [
    {
     "name": "stdout",
     "output_type": "stream",
     "text": [
      "Good more the some the some the some the some the some the some the some the some the some the some the some the some the some the some the some the some the some the some the some the some the some the some\n"
     ]
    }
   ],
   "source": [
    "text = 'Good mo'\n",
    "for i in range(200): text += get_next(text[-8:])\n",
    "\n",
    "print(text)"
   ]
  },
  {
   "cell_type": "code",
   "execution_count": 42,
   "metadata": {},
   "outputs": [
    {
     "name": "stdout",
     "output_type": "stream",
     "text": [
      "Good month. Them, welity work at it sel a people for there opportagen are the courstoryers not us I to science a where where in tway work good American the low for Must is were fooce of thnity to - Mind the \n"
     ]
    }
   ],
   "source": [
    "text = 'Good mo'\n",
    "for i in range(200): text += get_next_stochastic(text[-8:])\n",
    "\n",
    "print(text)"
   ]
  },
  {
   "cell_type": "markdown",
   "metadata": {},
   "source": [
    "Looking a bit better but still not that great. Next step - replacing the for loop with a PyTorch component."
   ]
  },
  {
   "cell_type": "markdown",
   "metadata": {},
   "source": [
    "## CharRnn"
   ]
  },
  {
   "cell_type": "markdown",
   "metadata": {},
   "source": [
    "This model will do exactly the same thing as the model above, the difference being that it no longer relies on the manual for loop. We will replace it with a nn.RNN layer.\n",
    "\n",
    "This is what that layer does (taken from [PyTorch documentation](http://pytorch.org/docs/master/nn.html#recurrent-layers)):\n",
    "\n",
    "$$h_t = \\tanh(w_{ih} * x_t + b_{ih}  +  w_{hh} * h_{(t-1)} + b_{hh})$$"
   ]
  },
  {
   "cell_type": "code",
   "execution_count": 43,
   "metadata": {},
   "outputs": [],
   "source": [
    "class CharRNN(nn.Module):\n",
    "    def __init__(self, vocab_size, n_fac):\n",
    "        super().__init__()\n",
    "        self.e = nn.Embedding(vocab_size, n_fac)\n",
    "#         self.l_in = nn.Linear(n_fac, n_hidden) <- nn.RNN will do this for us already so this can go\n",
    "        self.rnn = nn.RNN(n_fac, n_hidden)\n",
    "        self.l_out = nn.Linear(n_hidden, vocab_size)\n",
    "        \n",
    "    def forward(self, *cs):\n",
    "        bs = cs[0].size(0)\n",
    "        h0 = V(torch.zeros(1, bs, n_hidden).cuda())\n",
    "        inp = self.e(torch.stack(cs))\n",
    "        \n",
    "        # output.shape = [8, bs, n_hidden]\n",
    "        # hn.shape = [1, bs, n_hidden]\n",
    "        #   turns out hn is the 'tensor containing the hidden state for k=seq_len' but for just a plain nn.RNN\n",
    "        #   that ends up being output[-1, bs, n_hidden] which can be quite confusing!\n",
    "        output, hn = self.rnn(inp, h0)\n",
    "        return F.log_softmax(self.l_out(output[-1]))"
   ]
  },
  {
   "cell_type": "code",
   "execution_count": 44,
   "metadata": {},
   "outputs": [],
   "source": [
    "m = CharRNN(vocab_size, n_fac).cuda()"
   ]
  },
  {
   "cell_type": "code",
   "execution_count": 45,
   "metadata": {},
   "outputs": [
    {
     "data": {
      "application/vnd.jupyter.widget-view+json": {
       "model_id": "abf870b7db91409c81bdd3a5c60d71c2",
       "version_major": 2,
       "version_minor": 0
      },
      "text/html": [
       "<p>Failed to display Jupyter Widget of type <code>HBox</code>.</p>\n",
       "<p>\n",
       "  If you're reading this message in the Jupyter Notebook or JupyterLab Notebook, it may mean\n",
       "  that the widgets JavaScript is still loading. If this message persists, it\n",
       "  likely means that the widgets JavaScript library is either not installed or\n",
       "  not enabled. See the <a href=\"https://ipywidgets.readthedocs.io/en/stable/user_install.html\">Jupyter\n",
       "  Widgets Documentation</a> for setup instructions.\n",
       "</p>\n",
       "<p>\n",
       "  If you're reading this message in another frontend (for example, a static\n",
       "  rendering on GitHub or <a href=\"https://nbviewer.jupyter.org/\">NBViewer</a>),\n",
       "  it may mean that your frontend doesn't currently support widgets.\n",
       "</p>\n"
      ],
      "text/plain": [
       "HBox(children=(IntProgress(value=0, description='Epoch', max=1), HTML(value='')))"
      ]
     },
     "metadata": {},
     "output_type": "display_data"
    },
    {
     "name": "stdout",
     "output_type": "stream",
     "text": [
      "[ 0.       1.79412  3.36834]                                  \n",
      "\n"
     ]
    },
    {
     "data": {
      "application/vnd.jupyter.widget-view+json": {
       "model_id": "f5a826394b2b413299e9bade87a5e80c",
       "version_major": 2,
       "version_minor": 0
      },
      "text/html": [
       "<p>Failed to display Jupyter Widget of type <code>HBox</code>.</p>\n",
       "<p>\n",
       "  If you're reading this message in the Jupyter Notebook or JupyterLab Notebook, it may mean\n",
       "  that the widgets JavaScript is still loading. If this message persists, it\n",
       "  likely means that the widgets JavaScript library is either not installed or\n",
       "  not enabled. See the <a href=\"https://ipywidgets.readthedocs.io/en/stable/user_install.html\">Jupyter\n",
       "  Widgets Documentation</a> for setup instructions.\n",
       "</p>\n",
       "<p>\n",
       "  If you're reading this message in another frontend (for example, a static\n",
       "  rendering on GitHub or <a href=\"https://nbviewer.jupyter.org/\">NBViewer</a>),\n",
       "  it may mean that your frontend doesn't currently support widgets.\n",
       "</p>\n"
      ],
      "text/plain": [
       "HBox(children=(IntProgress(value=0, description='Epoch', max=1), HTML(value='')))"
      ]
     },
     "metadata": {},
     "output_type": "display_data"
    },
    {
     "name": "stdout",
     "output_type": "stream",
     "text": [
      "[ 0.       1.48315  4.21295]                                  \n",
      "\n"
     ]
    }
   ],
   "source": [
    "opt = optim.Adam(m.parameters(), 1e-2)\n",
    "\n",
    "fit(m, md, 1, opt, F.nll_loss)\n",
    "set_lrs(opt, 1e-3)\n",
    "fit(m, md, 1, opt, F.nll_loss)"
   ]
  },
  {
   "cell_type": "code",
   "execution_count": 46,
   "metadata": {},
   "outputs": [
    {
     "data": {
      "text/plain": [
       "'r'"
      ]
     },
     "execution_count": 46,
     "metadata": {},
     "output_type": "execute_result"
    }
   ],
   "source": [
    "get_next('Good mo')"
   ]
  },
  {
   "cell_type": "code",
   "execution_count": 47,
   "metadata": {},
   "outputs": [
    {
     "name": "stdout",
     "output_type": "stream",
     "text": [
      "Good more the program the program the program the program the program the program the program the program the program the program the program the program the program the program the program the program the p\n"
     ]
    }
   ],
   "source": [
    "text = 'Good mo'\n",
    "for i in range(200): text += get_next(text[-8:])\n",
    "\n",
    "print(text)"
   ]
  },
  {
   "cell_type": "code",
   "execution_count": 48,
   "metadata": {},
   "outputs": [
    {
     "name": "stdout",
     "output_type": "stream",
     "text": [
      "Good mora. Build there its their it's to all ertam. And onle-placed. Communis of over with the cairs end doute a see promimo the tell-to payinst with that the familize,, about sirsh and who cublib, and offic\n"
     ]
    }
   ],
   "source": [
    "text = 'Good mo'\n",
    "for i in range(200): text += get_next_stochastic(text[-8:])\n",
    "\n",
    "print(text)"
   ]
  },
  {
   "cell_type": "markdown",
   "metadata": {},
   "source": [
    "## What is going on here? "
   ]
  },
  {
   "cell_type": "markdown",
   "metadata": {},
   "source": [
    "I did some copying of code from Jeremy's notebook. Things seem to work. I am starting to use nn.RNN which hides some of the complexity (and I think I understand what it does).\n",
    "\n",
    "But something feels a bit off. Would I be able to create a model from scratch?\n",
    "\n",
    "At this point, all this seems quite fuzzy. The only way to really learn this is to build a model from scratch myself"
   ]
  },
  {
   "cell_type": "markdown",
   "metadata": {},
   "source": [
    "## Adding a string of numbers"
   ]
  },
  {
   "cell_type": "markdown",
   "metadata": {},
   "source": [
    "I will build a very simple RNN for evaluating a simple calculation contained in a string, for example '2+3'. For this example, the network should output the number 5.\n",
    "\n",
    "I understand that this will be doing very little, but that is the plan. There are so many ways that this could be extended. Including other types of calculations, summing up digits in a string up until some special character indicating going back to zero (for testing forget gates), etc.\n",
    "\n",
    "Let's see if I can get the most basic of models to work."
   ]
  },
  {
   "cell_type": "markdown",
   "metadata": {},
   "source": [
    "### Creating the dataset "
   ]
  },
  {
   "cell_type": "code",
   "execution_count": 49,
   "metadata": {},
   "outputs": [],
   "source": [
    "summands = [[x1, x2] for x1 in range(10) for x2 in range(10)]\n",
    "\n",
    "y = map(lambda lst: lst[0] + lst[1], summands)\n",
    "y = np.stack(y).reshape((-1,1))\n",
    "\n",
    "xs = map(lambda lst: [str(lst[0]), '+', str(lst[1])], summands)\n",
    "xs = np.stack(xs)"
   ]
  },
  {
   "cell_type": "code",
   "execution_count": 50,
   "metadata": {},
   "outputs": [
    {
     "data": {
      "text/plain": [
       "array([[ 0],\n",
       "       [ 7],\n",
       "       [ 5],\n",
       "       [12],\n",
       "       [10],\n",
       "       [ 8],\n",
       "       [15]])"
      ]
     },
     "execution_count": 50,
     "metadata": {},
     "output_type": "execute_result"
    }
   ],
   "source": [
    "y[::16]"
   ]
  },
  {
   "cell_type": "code",
   "execution_count": 51,
   "metadata": {},
   "outputs": [
    {
     "data": {
      "text/plain": [
       "array([['0', '+', '0'],\n",
       "       ['1', '+', '6'],\n",
       "       ['3', '+', '2'],\n",
       "       ['4', '+', '8'],\n",
       "       ['6', '+', '4'],\n",
       "       ['8', '+', '0'],\n",
       "       ['9', '+', '6']],\n",
       "      dtype='<U1')"
      ]
     },
     "execution_count": 51,
     "metadata": {},
     "output_type": "execute_result"
    }
   ],
   "source": [
    "xs[::16]"
   ]
  },
  {
   "cell_type": "code",
   "execution_count": 52,
   "metadata": {},
   "outputs": [
    {
     "data": {
      "text/plain": [
       "array(['+', '0', '1', '2', '3', '4', '5', '6', '7', '8', '9'],\n",
       "      dtype='<U1')"
      ]
     },
     "execution_count": 52,
     "metadata": {},
     "output_type": "execute_result"
    }
   ],
   "source": [
    "chars = np.unique(xs)\n",
    "chars"
   ]
  },
  {
   "cell_type": "code",
   "execution_count": 53,
   "metadata": {},
   "outputs": [
    {
     "name": "stdout",
     "output_type": "stream",
     "text": [
      "total chars: 11\n"
     ]
    }
   ],
   "source": [
    "vocab_size = len(chars)\n",
    "print('total chars:', vocab_size)"
   ]
  },
  {
   "cell_type": "markdown",
   "metadata": {},
   "source": [
    "We want to be able to easily go from char to its index in the vocabulary and back. Let's use dictionaries for that."
   ]
  },
  {
   "cell_type": "code",
   "execution_count": 54,
   "metadata": {},
   "outputs": [],
   "source": [
    "char2idx = {c: idx for idx, c in enumerate(chars)}\n",
    "idx2char = {idx: c for idx, c in enumerate(chars)}"
   ]
  },
  {
   "cell_type": "markdown",
   "metadata": {},
   "source": [
    "Now we need to convert our xs to an array with indices."
   ]
  },
  {
   "cell_type": "code",
   "execution_count": 55,
   "metadata": {},
   "outputs": [],
   "source": [
    "char2idx_ufunc = np.vectorize(lambda c: char2idx[c])"
   ]
  },
  {
   "cell_type": "code",
   "execution_count": 56,
   "metadata": {},
   "outputs": [],
   "source": [
    "x_idxs = char2idx_ufunc(xs)"
   ]
  },
  {
   "cell_type": "code",
   "execution_count": 57,
   "metadata": {},
   "outputs": [
    {
     "data": {
      "text/plain": [
       "array([[ 1,  0,  1],\n",
       "       [ 2,  0,  7],\n",
       "       [ 4,  0,  3],\n",
       "       [ 5,  0,  9],\n",
       "       [ 7,  0,  5],\n",
       "       [ 9,  0,  1],\n",
       "       [10,  0,  7]])"
      ]
     },
     "execution_count": 57,
     "metadata": {},
     "output_type": "execute_result"
    }
   ],
   "source": [
    "x_idxs[::16]"
   ]
  },
  {
   "cell_type": "markdown",
   "metadata": {},
   "source": [
    "We are ready to rock :)"
   ]
  },
  {
   "cell_type": "code",
   "execution_count": 58,
   "metadata": {},
   "outputs": [],
   "source": [
    "# Both xs and y are ordered - this sort of selection of the val set will lead to the model never seeing '9' as x1\n",
    "md = ColumnarModelData.from_arrays('.', [-10], x_idxs, y.astype(np.float32), bs=5)"
   ]
  },
  {
   "cell_type": "markdown",
   "metadata": {},
   "source": [
    "Incremental model construction.\n",
    "\n",
    "Will not go into my next post as it would make the code too messy. Wanted to share as I find it very useful."
   ]
  },
  {
   "cell_type": "code",
   "execution_count": 59,
   "metadata": {},
   "outputs": [],
   "source": [
    "class Calculator(nn.Module):\n",
    "    def __init__(self, vocab_size, n_fac):\n",
    "        super().__init__()\n",
    "        \n",
    "        # many simplifications here, which is good -\n",
    "        #   I'll make the model only as complex as it needs to be to learn\n",
    "        self.n_hidden = n_fac\n",
    "        self.e = nn.Embedding(vocab_size, n_fac)\n",
    "        self.l_hidden = nn.Linear(self.n_hidden, self.n_hidden)\n",
    "        self.l_out = nn.Linear(self.n_hidden, 1)\n",
    "    \n",
    "    def forward(self, *cs):\n",
    "        bs = cs[0].size(0)\n",
    "        h = V(torch.zeros(bs, self.n_hidden).cuda())\n",
    "        \n",
    "        for c in cs:\n",
    "            inp = self.e(c)\n",
    "            h = inp + self.l_hidden(h)\n",
    "        \n",
    "        return self.l_out(h)"
   ]
  },
  {
   "cell_type": "code",
   "execution_count": 60,
   "metadata": {},
   "outputs": [],
   "source": [
    "m = Calculator(vocab_size, 1).cuda()"
   ]
  },
  {
   "cell_type": "code",
   "execution_count": 61,
   "metadata": {},
   "outputs": [
    {
     "data": {
      "application/vnd.jupyter.widget-view+json": {
       "model_id": "f70695b8e4e0487882398cd186d7e8f1",
       "version_major": 2,
       "version_minor": 0
      },
      "text/html": [
       "<p>Failed to display Jupyter Widget of type <code>HBox</code>.</p>\n",
       "<p>\n",
       "  If you're reading this message in the Jupyter Notebook or JupyterLab Notebook, it may mean\n",
       "  that the widgets JavaScript is still loading. If this message persists, it\n",
       "  likely means that the widgets JavaScript library is either not installed or\n",
       "  not enabled. See the <a href=\"https://ipywidgets.readthedocs.io/en/stable/user_install.html\">Jupyter\n",
       "  Widgets Documentation</a> for setup instructions.\n",
       "</p>\n",
       "<p>\n",
       "  If you're reading this message in another frontend (for example, a static\n",
       "  rendering on GitHub or <a href=\"https://nbviewer.jupyter.org/\">NBViewer</a>),\n",
       "  it may mean that your frontend doesn't currently support widgets.\n",
       "</p>\n"
      ],
      "text/plain": [
       "HBox(children=(IntProgress(value=0, description='Epoch', max=4), HTML(value='')))"
      ]
     },
     "metadata": {},
     "output_type": "display_data"
    },
    {
     "name": "stdout",
     "output_type": "stream",
     "text": [
      "[  0.       32.04617  38.10055]                  \n",
      "[  1.       28.68811   0.04945]                  \n",
      "[  2.       21.28028   0.15449]                  \n",
      "[  3.       14.71513   1.75965]                  \n",
      "\n"
     ]
    },
    {
     "data": {
      "application/vnd.jupyter.widget-view+json": {
       "model_id": "fddca15fa2f14ab780f2cac7a20762cb",
       "version_major": 2,
       "version_minor": 0
      },
      "text/html": [
       "<p>Failed to display Jupyter Widget of type <code>HBox</code>.</p>\n",
       "<p>\n",
       "  If you're reading this message in the Jupyter Notebook or JupyterLab Notebook, it may mean\n",
       "  that the widgets JavaScript is still loading. If this message persists, it\n",
       "  likely means that the widgets JavaScript library is either not installed or\n",
       "  not enabled. See the <a href=\"https://ipywidgets.readthedocs.io/en/stable/user_install.html\">Jupyter\n",
       "  Widgets Documentation</a> for setup instructions.\n",
       "</p>\n",
       "<p>\n",
       "  If you're reading this message in another frontend (for example, a static\n",
       "  rendering on GitHub or <a href=\"https://nbviewer.jupyter.org/\">NBViewer</a>),\n",
       "  it may mean that your frontend doesn't currently support widgets.\n",
       "</p>\n"
      ],
      "text/plain": [
       "HBox(children=(IntProgress(value=0, description='Epoch', max=6), HTML(value='')))"
      ]
     },
     "metadata": {},
     "output_type": "display_data"
    },
    {
     "name": "stdout",
     "output_type": "stream",
     "text": [
      "[ 0.       1.95396  0.33035]                     \n",
      "[ 1.       1.01763  0.33364]                     \n",
      "[ 2.       0.57448  0.01587]                      \n",
      "[ 3.       0.34325  0.0167 ]                      \n",
      "[ 4.       0.21314  0.00184]                      \n",
      "[ 5.       0.13564  0.00008]                      \n",
      "\n"
     ]
    }
   ],
   "source": [
    "opt = optim.Adam(m.parameters(), 1)\n",
    "\n",
    "fit(m, md, 4, opt, F.mse_loss)\n",
    "set_lrs(opt, 1e-1)\n",
    "fit(m, md, 6, opt, F.mse_loss)"
   ]
  },
  {
   "cell_type": "markdown",
   "metadata": {},
   "source": [
    "The NN has very few parameters so it is quite susceptible to local minima. You might have to restart the training a couple of times to get nice results as above.\n",
    "\n",
    "Now the fun thing! What has our NN learned?"
   ]
  },
  {
   "cell_type": "code",
   "execution_count": 62,
   "metadata": {},
   "outputs": [
    {
     "data": {
      "text/plain": [
       "array(['+', '0', '1', '2', '3', '4', '5', '6', '7', '8', '9'],\n",
       "      dtype='<U1')"
      ]
     },
     "execution_count": 62,
     "metadata": {},
     "output_type": "execute_result"
    }
   ],
   "source": [
    "chars"
   ]
  },
  {
   "cell_type": "code",
   "execution_count": 63,
   "metadata": {},
   "outputs": [
    {
     "data": {
      "text/plain": [
       "Parameter containing:\n",
       " 0.1344\n",
       " 5.5938\n",
       " 4.5990\n",
       " 3.6036\n",
       " 2.6170\n",
       " 1.6118\n",
       " 0.6123\n",
       "-0.3791\n",
       "-1.3487\n",
       "-2.3770\n",
       "-3.3730\n",
       "[torch.cuda.FloatTensor of size 11x1 (GPU 0)]"
      ]
     },
     "execution_count": 63,
     "metadata": {},
     "output_type": "execute_result"
    }
   ],
   "source": [
    "m.e.weight"
   ]
  },
  {
   "cell_type": "code",
   "execution_count": 64,
   "metadata": {},
   "outputs": [
    {
     "data": {
      "text/plain": [
       "Parameter containing:\n",
       "-1.0000\n",
       "[torch.cuda.FloatTensor of size 1x1 (GPU 0)]"
      ]
     },
     "execution_count": 64,
     "metadata": {},
     "output_type": "execute_result"
    }
   ],
   "source": [
    "m.l_hidden.weight"
   ]
  },
  {
   "cell_type": "code",
   "execution_count": 65,
   "metadata": {},
   "outputs": [
    {
     "data": {
      "text/plain": [
       "Parameter containing:\n",
       "-1.0046\n",
       "[torch.cuda.FloatTensor of size 1x1 (GPU 0)]"
      ]
     },
     "execution_count": 65,
     "metadata": {},
     "output_type": "execute_result"
    }
   ],
   "source": [
    "m.l_out.weight"
   ]
  },
  {
   "cell_type": "markdown",
   "metadata": {},
   "source": [
    "The network can converge to various solutions - with the hidden weight being a very small number close to zero, or one close to +1 or -1, etc. You might want to rerun the training and see what happens!\n",
    "\n",
    "I tried adding a tanh activation between the hidden states but it didn't work. Makes sense if you think about what the network is doing. \n",
    "\n",
    "Can we get this to work with a hidden state and a tanh nonlinearity?"
   ]
  },
  {
   "cell_type": "code",
   "execution_count": 66,
   "metadata": {},
   "outputs": [],
   "source": [
    "class CalculatorWithNonlinearities(nn.Module):\n",
    "    def __init__(self, vocab_size, n_fac, n_hidden):\n",
    "        super().__init__()\n",
    "\n",
    "        self.n_hidden = n_hidden\n",
    "        self.e = nn.Embedding(vocab_size, n_fac)\n",
    "        self.l_in = nn.Linear(n_fac, n_hidden) # we need this because now n_fac != n_hidden\n",
    "        self.l_hidden = nn.Linear(n_hidden, n_hidden)\n",
    "        self.l_out = nn.Linear(n_hidden, 1)\n",
    "    \n",
    "    def forward(self, *cs):\n",
    "        bs = cs[0].size(0)\n",
    "        h = V(torch.zeros(bs, self.n_hidden).cuda())\n",
    "        for c in cs:\n",
    "            inp = self.l_in(self.e(c))\n",
    "            h = F.tanh(self.l_hidden(h + inp))\n",
    "        return self.l_out(h)"
   ]
  },
  {
   "cell_type": "markdown",
   "metadata": {},
   "source": [
    "I know that 1 should work for the n_fac - the NN just needs to learn the number corresponding to each char. But what about n_hidden?\n",
    "\n",
    "How small can I make the network for it to learn?"
   ]
  },
  {
   "cell_type": "code",
   "execution_count": 78,
   "metadata": {},
   "outputs": [],
   "source": [
    "m = CalculatorWithNonlinearities(vocab_size, 1, 20).cuda()"
   ]
  },
  {
   "cell_type": "code",
   "execution_count": 79,
   "metadata": {},
   "outputs": [
    {
     "data": {
      "application/vnd.jupyter.widget-view+json": {
       "model_id": "417ebea295974bf59e5b6cf565d7e61a",
       "version_major": 2,
       "version_minor": 0
      },
      "text/html": [
       "<p>Failed to display Jupyter Widget of type <code>HBox</code>.</p>\n",
       "<p>\n",
       "  If you're reading this message in the Jupyter Notebook or JupyterLab Notebook, it may mean\n",
       "  that the widgets JavaScript is still loading. If this message persists, it\n",
       "  likely means that the widgets JavaScript library is either not installed or\n",
       "  not enabled. See the <a href=\"https://ipywidgets.readthedocs.io/en/stable/user_install.html\">Jupyter\n",
       "  Widgets Documentation</a> for setup instructions.\n",
       "</p>\n",
       "<p>\n",
       "  If you're reading this message in another frontend (for example, a static\n",
       "  rendering on GitHub or <a href=\"https://nbviewer.jupyter.org/\">NBViewer</a>),\n",
       "  it may mean that your frontend doesn't currently support widgets.\n",
       "</p>\n"
      ],
      "text/plain": [
       "HBox(children=(IntProgress(value=0, description='Epoch', max=30), HTML(value='')))"
      ]
     },
     "metadata": {},
     "output_type": "display_data"
    },
    {
     "name": "stdout",
     "output_type": "stream",
     "text": [
      "[  0.       63.47354  20.88388]                  \n",
      "[  1.       40.15991   1.33555]                  \n",
      "[  2.       28.93934   0.03963]                  \n",
      "[  3.       24.02901   0.15532]                  \n",
      "[  4.       20.99171   1.91515]                  \n",
      "[  5.       18.52672   3.33561]                  \n",
      "[  6.       16.63677   8.62258]                  \n",
      "[  7.       14.37636  13.87331]                            \n",
      "[  8.       12.12078   2.99008]                  \n",
      "[ 9.       9.95543  2.44918]                     \n",
      "[ 10.       7.7617   2.1268]                     \n",
      "[ 11.        5.88463   0.85365]                  \n",
      "[ 12.        4.41386   0.59487]                  \n",
      "[ 13.        3.29314   0.21375]                  \n",
      "[ 14.        2.44597   0.15518]                  \n",
      "[ 15.        1.81645   0.26361]                  \n",
      "[ 16.        1.34163   0.11318]                  \n",
      "[ 17.        1.00977   0.08749]                  \n",
      "[ 18.        0.76507   0.17916]                   \n",
      "[ 19.        0.58762   0.14145]                   \n",
      "[ 20.        0.45585   0.23183]                   \n",
      "[ 21.        0.35611   0.0891 ]                   \n",
      "[ 22.        0.28227   0.1413 ]                   \n",
      "[ 23.        0.22708   0.15119]                   \n",
      "[ 24.        0.19191   0.11129]                   \n",
      "[ 25.        0.16335   0.13076]                   \n",
      "[ 26.        0.13811   0.08181]                   \n",
      "[ 27.        0.12299   0.09445]                   \n",
      "[ 28.        0.10912   0.09243]                   \n",
      "[ 29.        0.11314   0.06397]                             \n",
      "\n"
     ]
    }
   ],
   "source": [
    "opt = optim.Adam(m.parameters(), 1e-2)\n",
    "\n",
    "fit(m, md, 30, opt, F.mse_loss)"
   ]
  },
  {
   "cell_type": "markdown",
   "metadata": {},
   "source": [
    "For what it's worth, 10 dimensionsional hidden state seems to be too small for this method of training / architecture. 20 seems to do the trick.\n",
    "\n",
    "Let's see what embeddings it learned."
   ]
  },
  {
   "cell_type": "code",
   "execution_count": 69,
   "metadata": {},
   "outputs": [
    {
     "data": {
      "text/plain": [
       "array(['+', '0', '1', '2', '3', '4', '5', '6', '7', '8', '9'],\n",
       "      dtype='<U1')"
      ]
     },
     "execution_count": 69,
     "metadata": {},
     "output_type": "execute_result"
    }
   ],
   "source": [
    "chars"
   ]
  },
  {
   "cell_type": "code",
   "execution_count": 80,
   "metadata": {},
   "outputs": [
    {
     "data": {
      "text/plain": [
       "Parameter containing:\n",
       " 0.2250\n",
       " 1.5479\n",
       " 1.0827\n",
       " 0.7148\n",
       " 0.3693\n",
       " 0.0797\n",
       "-0.1757\n",
       "-0.3648\n",
       "-0.6106\n",
       "-0.8920\n",
       "-1.2479\n",
       "[torch.cuda.FloatTensor of size 11x1 (GPU 0)]"
      ]
     },
     "execution_count": 80,
     "metadata": {},
     "output_type": "execute_result"
    }
   ],
   "source": [
    "m.e.weight"
   ]
  },
  {
   "cell_type": "markdown",
   "metadata": {},
   "source": [
    "Makes sense! Now time for getting it to work with the nn.RNN black box.\n",
    "\n",
    "Pasting the equation summarizing what it does here so that I know what to feed it and what I can expect to come out of it:\n",
    "$$h_t = \\tanh(w_{ih} * x_t + b_{ih}  +  w_{hh} * h_{(t-1)} + b_{hh})$$"
   ]
  },
  {
   "cell_type": "code",
   "execution_count": 71,
   "metadata": {},
   "outputs": [],
   "source": [
    "class CalculatorWithRNNCell(nn.Module):\n",
    "    def __init__(self, vocab_size, n_fac, n_hidden):\n",
    "        super().__init__()\n",
    "\n",
    "        self.n_hidden = n_hidden\n",
    "        self.e = nn.Embedding(vocab_size, n_fac)   \n",
    "        self.rnn = nn.RNN(n_fac, n_hidden)\n",
    "        self.l_out = nn.Linear(n_hidden, 1)\n",
    "    \n",
    "    def forward(self, *cs):\n",
    "        bs = cs[0].size(0)\n",
    "        inp = self.e(torch.stack(cs))\n",
    "        h0 = V(torch.zeros(1, bs, self.n_hidden).cuda())\n",
    "        out, _ = self.rnn(inp, h0)\n",
    "        \n",
    "        return self.l_out(out[-1])"
   ]
  },
  {
   "cell_type": "code",
   "execution_count": 72,
   "metadata": {},
   "outputs": [],
   "source": [
    "m = CalculatorWithRNNCell(vocab_size, 1, 20).cuda()"
   ]
  },
  {
   "cell_type": "code",
   "execution_count": 73,
   "metadata": {},
   "outputs": [
    {
     "data": {
      "application/vnd.jupyter.widget-view+json": {
       "model_id": "8d5d2cd2bcef4870a3b7e04049844051",
       "version_major": 2,
       "version_minor": 0
      },
      "text/html": [
       "<p>Failed to display Jupyter Widget of type <code>HBox</code>.</p>\n",
       "<p>\n",
       "  If you're reading this message in the Jupyter Notebook or JupyterLab Notebook, it may mean\n",
       "  that the widgets JavaScript is still loading. If this message persists, it\n",
       "  likely means that the widgets JavaScript library is either not installed or\n",
       "  not enabled. See the <a href=\"https://ipywidgets.readthedocs.io/en/stable/user_install.html\">Jupyter\n",
       "  Widgets Documentation</a> for setup instructions.\n",
       "</p>\n",
       "<p>\n",
       "  If you're reading this message in another frontend (for example, a static\n",
       "  rendering on GitHub or <a href=\"https://nbviewer.jupyter.org/\">NBViewer</a>),\n",
       "  it may mean that your frontend doesn't currently support widgets.\n",
       "</p>\n"
      ],
      "text/plain": [
       "HBox(children=(IntProgress(value=0, description='Epoch', max=30), HTML(value='')))"
      ]
     },
     "metadata": {},
     "output_type": "display_data"
    },
    {
     "name": "stdout",
     "output_type": "stream",
     "text": [
      "[  0.       55.52471  12.62594]                            \n",
      "[  1.       34.50159   0.06954]                            \n",
      "[  2.       26.17814   0.1129 ]                  \n",
      "[  3.       22.08547   0.00005]                  \n",
      "[  4.       20.19321   0.00664]                            \n",
      "[  5.       18.97991   0.08101]                            \n",
      "[  6.       17.95803   0.1384 ]                            \n",
      "[  7.       17.04634   0.18264]                          \n",
      "[  8.       15.4479    1.29831]                            \n",
      "[  9.       13.28404   0.43426]                            \n",
      "[ 10.       10.60576   7.726  ]                            \n",
      "[ 11.        8.26296  12.18458]                            \n",
      "[ 12.        6.38482   7.41186]                            \n",
      "[ 13.        4.99916   4.71922]                            \n",
      "[ 14.        3.89386   5.31201]                            \n",
      "[ 15.        3.0579    4.78369]                            \n",
      "[ 16.        2.40439   3.62742]                  \n",
      "[ 17.        1.91048   2.77913]                            \n",
      "[ 18.        1.54379   1.51434]                            \n",
      "[ 19.        1.25128   1.39807]                            \n",
      "[ 20.        1.01552   0.77171]                            \n",
      "[ 21.        0.83522   0.43174]                             \n",
      "[ 22.        0.69107   0.30023]                             \n",
      "[ 23.        0.57886   0.15133]                             \n",
      "[ 24.        0.48932   0.00201]                             \n",
      "[ 25.        0.42577   0.08892]                             \n",
      "[ 26.        0.37232   0.02133]                             \n",
      "[ 27.        0.32565   0.02218]                             \n",
      "[ 28.        0.29525   0.02289]                             \n",
      "[ 29.        0.26832   0.26283]                             \n",
      "\n"
     ]
    }
   ],
   "source": [
    "opt = optim.Adam(m.parameters(), 1e-2)\n",
    "\n",
    "fit(m, md, 30, opt, F.mse_loss)"
   ]
  },
  {
   "cell_type": "code",
   "execution_count": 74,
   "metadata": {},
   "outputs": [
    {
     "data": {
      "text/plain": [
       "array(['+', '0', '1', '2', '3', '4', '5', '6', '7', '8', '9'],\n",
       "      dtype='<U1')"
      ]
     },
     "execution_count": 74,
     "metadata": {},
     "output_type": "execute_result"
    }
   ],
   "source": [
    "chars"
   ]
  },
  {
   "cell_type": "code",
   "execution_count": 75,
   "metadata": {},
   "outputs": [
    {
     "data": {
      "text/plain": [
       "Parameter containing:\n",
       " 1.2563\n",
       " 2.5239\n",
       " 1.6003\n",
       " 1.0074\n",
       " 0.6406\n",
       " 0.3360\n",
       " 0.0291\n",
       "-0.3471\n",
       "-0.8477\n",
       "-1.5188\n",
       "-2.1275\n",
       "[torch.cuda.FloatTensor of size 11x1 (GPU 0)]"
      ]
     },
     "execution_count": 75,
     "metadata": {},
     "output_type": "execute_result"
    }
   ],
   "source": [
    "m.e.weight"
   ]
  },
  {
   "cell_type": "markdown",
   "metadata": {},
   "source": [
    "## End of part 1"
   ]
  },
  {
   "cell_type": "markdown",
   "metadata": {},
   "source": [
    "And that's it for part 1! In part 2 we will look at longer sequences and specifically LTSM and GRU RNNs! \n",
    "\n",
    "See you in part 2!"
   ]
  },
  {
   "cell_type": "markdown",
   "metadata": {},
   "source": [
    "### Fun things to try\n",
    "\n",
    "* The RNNs for the learning from speeches part have not been tuned. Can you lower the validation loss by picking different embedding / hidden state dimensions? What about learning rate annealing (decreasing the learning rate as you train) or adding batch norm / dropout? \n",
    "* Can you teach the network to perform other calculations, such as subtraction or multiplication? How big of a hidden state do you need to make it work?\n",
    "* What about a network that would take in long sequences of ones and zeros and count the ones? How long can we make such a sequence before the network is unable to learn?"
   ]
  }
 ],
 "metadata": {
  "kernelspec": {
   "display_name": "Python 3",
   "language": "python",
   "name": "python3"
  },
  "language_info": {
   "codemirror_mode": {
    "name": "ipython",
    "version": 3
   },
   "file_extension": ".py",
   "mimetype": "text/x-python",
   "name": "python",
   "nbconvert_exporter": "python",
   "pygments_lexer": "ipython3",
   "version": "3.6.4"
  }
 },
 "nbformat": 4,
 "nbformat_minor": 2
}
